{
  "nbformat": 4,
  "nbformat_minor": 0,
  "metadata": {
    "colab": {
      "name": "Machine Learning Practice.ipynb",
      "provenance": [],
      "collapsed_sections": [],
      "include_colab_link": true
    },
    "kernelspec": {
      "name": "python3",
      "display_name": "Python 3"
    }
  },
  "cells": [
    {
      "cell_type": "markdown",
      "metadata": {
        "id": "view-in-github",
        "colab_type": "text"
      },
      "source": [
        "<a href=\"https://colab.research.google.com/github/jejec0703/Machine-Learning-Deep-Learning/blob/master/Machine_Learning_Practice.ipynb\" target=\"_parent\"><img src=\"https://colab.research.google.com/assets/colab-badge.svg\" alt=\"Open In Colab\"/></a>"
      ]
    },
    {
      "cell_type": "markdown",
      "metadata": {
        "id": "IMSlcK4nFWaY",
        "colab_type": "text"
      },
      "source": [
        "\n",
        "\n",
        "1. sklearn의 load_boston 을 이용해서 boston 데이터를 로드하고, Linear Regression, Ridge Regression, Lasso Regression을 수행하고, \n",
        "학습된 모델의 r2_score와 coef_, bias를 출력하시오.. \n",
        "Ridge와 Lasso의 알파값은 0.3으로 하시오\n"
      ]
    },
    {
      "cell_type": "code",
      "metadata": {
        "id": "91iGDB9MFe_4",
        "colab_type": "code",
        "colab": {}
      },
      "source": [
        "from sklearn.datasets import load_boston\n",
        "\n",
        "boston = load_boston()"
      ],
      "execution_count": null,
      "outputs": []
    },
    {
      "cell_type": "code",
      "metadata": {
        "id": "6s8gYsOeVDB0",
        "colab_type": "code",
        "colab": {
          "base_uri": "https://localhost:8080/",
          "height": 35
        },
        "outputId": "6890eaba-4084-4014-ef38-e36468fc4612"
      },
      "source": [
        "X = boston.data\n",
        "y = boston.target\n",
        "\n",
        "from sklearn.model_selection import train_test_split\n",
        "X_train, X_test, y_train, y_test = train_test_split(X, y, random_state=42, test_size=0.2)\n",
        "X_train.shape, y_train.shape, y_test.shape, X_test.shape"
      ],
      "execution_count": null,
      "outputs": [
        {
          "output_type": "execute_result",
          "data": {
            "text/plain": [
              "((404, 13), (404,), (102,), (102, 13))"
            ]
          },
          "metadata": {
            "tags": []
          },
          "execution_count": 2
        }
      ]
    },
    {
      "cell_type": "code",
      "metadata": {
        "id": "-3t-DVr2XVzK",
        "colab_type": "code",
        "colab": {
          "base_uri": "https://localhost:8080/",
          "height": 179
        },
        "outputId": "c69a79d6-5fe4-4050-a1ed-07d8baf0eead"
      },
      "source": [
        "from sklearn.linear_model import LinearRegression\n",
        "lin_reg = LinearRegression()\n",
        "lin_reg.fit(X_train, y_train)\n",
        "\n",
        "print('train score : {:.3f}'.format(lin_reg.score(X_train, y_train)))\n",
        "print('test score : {:.3f}'.format(lin_reg.score(X_test, y_test)))\n",
        "print('\\nLinear Reg Bias : {}, \\n\\nLinear Reg Intercept : {}'.format(lin_reg.coef_, lin_reg.intercept_))\n"
      ],
      "execution_count": null,
      "outputs": [
        {
          "output_type": "stream",
          "text": [
            "train score : 0.751\n",
            "test score : 0.669\n",
            "\n",
            "Linear Reg Bias : [-1.13055924e-01  3.01104641e-02  4.03807204e-02  2.78443820e+00\n",
            " -1.72026334e+01  4.43883520e+00 -6.29636221e-03 -1.44786537e+00\n",
            "  2.62429736e-01 -1.06467863e-02 -9.15456240e-01  1.23513347e-02\n",
            " -5.08571424e-01], \n",
            "\n",
            "Linear Reg Intercept : 30.246750993923925\n"
          ],
          "name": "stdout"
        }
      ]
    },
    {
      "cell_type": "code",
      "metadata": {
        "id": "T-pm9jE_YISy",
        "colab_type": "code",
        "colab": {
          "base_uri": "https://localhost:8080/",
          "height": 89
        },
        "outputId": "8238cdf0-b011-4021-a330-ebf596025d7e"
      },
      "source": [
        "from sklearn.linear_model import Ridge, Lasso\n",
        "ridge = Ridge(alpha=0.3).fit(X_train, y_train)\n",
        "lasso = Lasso(alpha=0.3).fit(X_train, y_train)\n",
        "\n",
        "print('ridge train score : {:.3f}'.format(ridge.score(X_train, y_train)))\n",
        "print('ridge test score : {:.3f}'.format(ridge.score(X_test, y_test)))\n",
        "print('lasso train score : {:.3f}'.format(lasso.score(X_train, y_train)))\n",
        "print('lasso test score : {:.3f}'.format(lasso.score(X_test, y_test)))"
      ],
      "execution_count": null,
      "outputs": [
        {
          "output_type": "stream",
          "text": [
            "ridge train score : 0.750\n",
            "ridge test score : 0.668\n",
            "lasso train score : 0.732\n",
            "lasso test score : 0.663\n"
          ],
          "name": "stdout"
        }
      ]
    },
    {
      "cell_type": "code",
      "metadata": {
        "id": "RSnaTktsZbwT",
        "colab_type": "code",
        "colab": {
          "base_uri": "https://localhost:8080/",
          "height": 53
        },
        "outputId": "06f46a0b-1ede-45d5-b250-1d46ed87ff67"
      },
      "source": [
        "from sklearn.metrics import r2_score\n",
        "y_train_pred = lin_reg.predict(X_train)\n",
        "r2_train = r2_score(y_train, y_train_pred)\n",
        "\n",
        "y_test_pred = lin_reg.predict(X_test)\n",
        "r2_test = r2_score(y_test, y_test_pred)\n",
        "\n",
        "print('train r2 score : {:.3f}'.format(r2_train))\n",
        "print('test r2 score : {:.3f}'.format(r2_test))"
      ],
      "execution_count": null,
      "outputs": [
        {
          "output_type": "stream",
          "text": [
            "train r2 score : 0.751\n",
            "test r2 score : 0.669\n"
          ],
          "name": "stdout"
        }
      ]
    },
    {
      "cell_type": "markdown",
      "metadata": {
        "id": "-osa1BVJFajm",
        "colab_type": "text"
      },
      "source": [
        "\n",
        "\n",
        "2. sklearn의 load_boston 을 이용해서 boston 데이터를 로드하고, sklearn에서 RandomForest를 최대 트리의 깊이를 2로 하고, estimator는 100개로 설정하여 수행하시오. 그리고 mean_squared_error를 출력하시오. 그리고 각 feature 들의 중요도를 출력하십시요.\n"
      ]
    },
    {
      "cell_type": "code",
      "metadata": {
        "id": "ppTId8dTcp_V",
        "colab_type": "code",
        "colab": {
          "base_uri": "https://localhost:8080/",
          "height": 179
        },
        "outputId": "fd32b254-7b69-42e8-c044-0ccc86da36f7"
      },
      "source": [
        "from sklearn.ensemble import RandomForestRegressor\n",
        "from sklearn.metrics import mean_squared_error\n",
        "\n",
        "boston_rf = RandomForestRegressor(max_depth=2, n_estimators=100)\n",
        "mse = mean_squared_error(y_train, y_train_pred)\n",
        "\n",
        "print('{}'.format(boston_rf))\n",
        "print('\\nmean squared error : {:.3f}'.format(mse))"
      ],
      "execution_count": null,
      "outputs": [
        {
          "output_type": "stream",
          "text": [
            "RandomForestRegressor(bootstrap=True, ccp_alpha=0.0, criterion='mse',\n",
            "                      max_depth=2, max_features='auto', max_leaf_nodes=None,\n",
            "                      max_samples=None, min_impurity_decrease=0.0,\n",
            "                      min_impurity_split=None, min_samples_leaf=1,\n",
            "                      min_samples_split=2, min_weight_fraction_leaf=0.0,\n",
            "                      n_estimators=100, n_jobs=None, oob_score=False,\n",
            "                      random_state=None, verbose=0, warm_start=False)\n",
            "\n",
            "mean squared error : 21.641\n"
          ],
          "name": "stdout"
        }
      ]
    },
    {
      "cell_type": "code",
      "metadata": {
        "id": "-724qJzogzEl",
        "colab_type": "code",
        "colab": {
          "base_uri": "https://localhost:8080/",
          "height": 89
        },
        "outputId": "b2f545a3-fafe-48a2-c3e9-8f0d311ed01f"
      },
      "source": [
        "boston_rf_fi = boston_rf.fit(X_train, y_train).feature_importances_\n",
        "print(\"[feature중요도]\\n{}\".format(boston_rf_fi))"
      ],
      "execution_count": null,
      "outputs": [
        {
          "output_type": "stream",
          "text": [
            "[feature중요도]\n",
            "[0.         0.         0.         0.         0.00424386 0.59017756\n",
            " 0.         0.00291929 0.         0.         0.00075795 0.\n",
            " 0.40190135]\n"
          ],
          "name": "stdout"
        }
      ]
    },
    {
      "cell_type": "markdown",
      "metadata": {
        "id": "RX51f79BFbzR",
        "colab_type": "text"
      },
      "source": [
        "\n",
        "\n",
        "3. Tensorflow를 사용해 Mnist 데이터를 분류하고 그 결과를 출력하시요. 어떤 알고리즘, 어떤 모델이든 상관 없습니다.\n",
        "\n"
      ]
    },
    {
      "cell_type": "code",
      "metadata": {
        "id": "BPPuG9JbFgAB",
        "colab_type": "code",
        "colab": {
          "base_uri": "https://localhost:8080/",
          "height": 35
        },
        "outputId": "ab275066-3797-4e47-8d95-1f8ced652912"
      },
      "source": [
        "import tensorflow as tf\n",
        "import numpy as np\n",
        "import matplotlib.pyplot as plt\n",
        "\n",
        "mnist = tf.keras.datasets.mnist.load_data()\n",
        "\n",
        "(X_train, y_train), (X_test, y_test) = mnist\n",
        "X_train.shape, y_train.shape, X_test.shape, y_test.shape"
      ],
      "execution_count": null,
      "outputs": [
        {
          "output_type": "execute_result",
          "data": {
            "text/plain": [
              "((60000, 28, 28), (60000,), (10000, 28, 28), (10000,))"
            ]
          },
          "metadata": {
            "tags": []
          },
          "execution_count": 47
        }
      ]
    },
    {
      "cell_type": "code",
      "metadata": {
        "id": "G4M2CoBNjiVC",
        "colab_type": "code",
        "colab": {}
      },
      "source": [
        "X_train.max(), X_train.min()\n",
        "X_train_, X_test_ = X_train/255.0, X_test/255.0"
      ],
      "execution_count": null,
      "outputs": []
    },
    {
      "cell_type": "code",
      "metadata": {
        "id": "prmdO8g8iKF6",
        "colab_type": "code",
        "colab": {
          "base_uri": "https://localhost:8080/",
          "height": 415
        },
        "outputId": "5bb7cbc5-a316-4f0a-a038-96261b6d7556"
      },
      "source": [
        "L = tf.keras.layers\n",
        "\n",
        "model = tf.keras.models.Sequential([\n",
        "                                    L.Flatten(input_shape=(28, 28)),\n",
        "                                    L.Dense(256, activation='relu'),\n",
        "                                    L.Dense(128, activation='relu'),\n",
        "                                    L.Dropout(0.2),\n",
        "                                    L.Dense(10, activation='softmax'),\n",
        "])\n",
        "model.compile(optimizer='adam',\n",
        "              loss='sparse_categorical_crossentropy',\n",
        "              metrics=['accuracy'])\n",
        "\n",
        "model.fit(X_train_, y_train, epochs=10)"
      ],
      "execution_count": null,
      "outputs": [
        {
          "output_type": "stream",
          "text": [
            "Epoch 1/10\n",
            "1875/1875 [==============================] - 5s 3ms/step - loss: 0.2310 - accuracy: 0.9305\n",
            "Epoch 2/10\n",
            "1875/1875 [==============================] - 5s 3ms/step - loss: 0.0976 - accuracy: 0.9692\n",
            "Epoch 3/10\n",
            "1875/1875 [==============================] - 5s 3ms/step - loss: 0.0680 - accuracy: 0.9789\n",
            "Epoch 4/10\n",
            "1875/1875 [==============================] - 5s 3ms/step - loss: 0.0517 - accuracy: 0.9839\n",
            "Epoch 5/10\n",
            "1875/1875 [==============================] - 5s 3ms/step - loss: 0.0404 - accuracy: 0.9872\n",
            "Epoch 6/10\n",
            "1875/1875 [==============================] - 5s 3ms/step - loss: 0.0360 - accuracy: 0.9882\n",
            "Epoch 7/10\n",
            "1875/1875 [==============================] - 5s 3ms/step - loss: 0.0304 - accuracy: 0.9903\n",
            "Epoch 8/10\n",
            "1875/1875 [==============================] - 5s 3ms/step - loss: 0.0246 - accuracy: 0.9919\n",
            "Epoch 9/10\n",
            "1875/1875 [==============================] - 5s 3ms/step - loss: 0.0224 - accuracy: 0.9927\n",
            "Epoch 10/10\n",
            "1875/1875 [==============================] - 5s 3ms/step - loss: 0.0208 - accuracy: 0.9932\n"
          ],
          "name": "stdout"
        },
        {
          "output_type": "execute_result",
          "data": {
            "text/plain": [
              "<tensorflow.python.keras.callbacks.History at 0x7f79326fc3c8>"
            ]
          },
          "metadata": {
            "tags": []
          },
          "execution_count": 56
        }
      ]
    },
    {
      "cell_type": "code",
      "metadata": {
        "id": "u11CxTw3k_j7",
        "colab_type": "code",
        "colab": {
          "base_uri": "https://localhost:8080/",
          "height": 53
        },
        "outputId": "100562ad-f750-4653-ddd2-56c384b8aa97"
      },
      "source": [
        "model.evaluate(X_test_, y_test)"
      ],
      "execution_count": null,
      "outputs": [
        {
          "output_type": "stream",
          "text": [
            "313/313 [==============================] - 0s 1ms/step - loss: 0.0889 - accuracy: 0.9800\n"
          ],
          "name": "stdout"
        },
        {
          "output_type": "execute_result",
          "data": {
            "text/plain": [
              "[0.08886011689901352, 0.9800000190734863]"
            ]
          },
          "metadata": {
            "tags": []
          },
          "execution_count": 57
        }
      ]
    },
    {
      "cell_type": "code",
      "metadata": {
        "id": "bjO636zklg9Q",
        "colab_type": "code",
        "colab": {}
      },
      "source": [
        "# test data로 예측시작\n",
        "predictions = model.predict(X_test_)"
      ],
      "execution_count": null,
      "outputs": []
    },
    {
      "cell_type": "code",
      "metadata": {
        "id": "-dPtQ10Gl-zw",
        "colab_type": "code",
        "colab": {
          "base_uri": "https://localhost:8080/",
          "height": 71
        },
        "outputId": "38dfd0bd-890e-4ed9-a15b-0620db75d9ea"
      },
      "source": [
        "predictions[0]"
      ],
      "execution_count": null,
      "outputs": [
        {
          "output_type": "execute_result",
          "data": {
            "text/plain": [
              "array([8.7797791e-14, 1.6278253e-12, 8.3191384e-11, 4.5358298e-08,\n",
              "       1.7650204e-12, 2.2041492e-12, 6.3205905e-19, 9.9999964e-01,\n",
              "       1.0483231e-14, 3.2267559e-07], dtype=float32)"
            ]
          },
          "metadata": {
            "tags": []
          },
          "execution_count": 77
        }
      ]
    },
    {
      "cell_type": "code",
      "metadata": {
        "id": "lNHzbf2-mDFq",
        "colab_type": "code",
        "colab": {
          "base_uri": "https://localhost:8080/",
          "height": 35
        },
        "outputId": "aa8adea0-beb7-486e-af4c-d0106d5ca5f7"
      },
      "source": [
        "np.argmax(predictions[0])"
      ],
      "execution_count": null,
      "outputs": [
        {
          "output_type": "execute_result",
          "data": {
            "text/plain": [
              "7"
            ]
          },
          "metadata": {
            "tags": []
          },
          "execution_count": 78
        }
      ]
    },
    {
      "cell_type": "code",
      "metadata": {
        "id": "Oou_9kPomJMg",
        "colab_type": "code",
        "colab": {
          "base_uri": "https://localhost:8080/",
          "height": 35
        },
        "outputId": "89917721-36fd-4e4c-9f11-aba5628653ad"
      },
      "source": [
        "y_test[0]"
      ],
      "execution_count": null,
      "outputs": [
        {
          "output_type": "execute_result",
          "data": {
            "text/plain": [
              "7"
            ]
          },
          "metadata": {
            "tags": []
          },
          "execution_count": 79
        }
      ]
    },
    {
      "cell_type": "code",
      "metadata": {
        "id": "kecJD6ZipLqL",
        "colab_type": "code",
        "colab": {
          "base_uri": "https://localhost:8080/",
          "height": 935
        },
        "outputId": "5588dbde-5c11-4f08-e340-eae14fb7fe8c"
      },
      "source": [
        "for i in range(10):\n",
        "  print('\\npredictions\\n{}'.format(predictions[i]))\n",
        "  if np.argmax(predictions[0]) == y_test[0]:\n",
        "    print('예측 성공!')\n",
        "  else:\n",
        "    print('\\naccuracy : {}'.format(model.evalate(y_test)))"
      ],
      "execution_count": null,
      "outputs": [
        {
          "output_type": "stream",
          "text": [
            "\n",
            "predictions\n",
            "[8.7797791e-14 1.6278253e-12 8.3191384e-11 4.5358298e-08 1.7650204e-12\n",
            " 2.2041492e-12 6.3205905e-19 9.9999964e-01 1.0483231e-14 3.2267559e-07]\n",
            "예측 성공!\n",
            "\n",
            "predictions\n",
            "[5.4112700e-16 6.9835635e-12 1.0000000e+00 5.8863897e-10 6.9278078e-22\n",
            " 5.7535441e-17 9.1570212e-20 3.4692071e-17 4.3612363e-15 2.9925745e-23]\n",
            "예측 성공!\n",
            "\n",
            "predictions\n",
            "[7.7990720e-15 1.0000000e+00 2.3245779e-11 5.5877991e-14 1.9629554e-09\n",
            " 1.0254513e-12 2.2724374e-10 5.4291429e-09 3.7988429e-10 2.6215187e-13]\n",
            "예측 성공!\n",
            "\n",
            "predictions\n",
            "[1.0000000e+00 2.6756089e-22 1.2463702e-12 8.1496105e-13 9.7735371e-15\n",
            " 1.4580886e-12 1.8117657e-10 1.2293170e-12 2.4132396e-15 1.1655290e-12]\n",
            "예측 성공!\n",
            "\n",
            "predictions\n",
            "[2.1340450e-13 6.1823532e-11 1.3973410e-12 2.4496491e-14 9.9997866e-01\n",
            " 3.9869913e-12 4.1983743e-12 1.4514670e-07 8.1190159e-12 2.1207807e-05]\n",
            "예측 성공!\n",
            "\n",
            "predictions\n",
            "[1.2062250e-15 9.9999940e-01 2.3761066e-14 5.2053990e-14 3.7204757e-08\n",
            " 2.3577911e-14 5.8810162e-12 6.1749637e-07 3.7891383e-09 4.8997650e-11]\n",
            "예측 성공!\n",
            "\n",
            "predictions\n",
            "[7.3044523e-14 1.3971498e-08 9.8696618e-10 2.7890334e-09 9.9995422e-01\n",
            " 1.6437104e-07 2.1777264e-09 1.9533875e-06 4.2831936e-05 8.1473740e-07]\n",
            "예측 성공!\n",
            "\n",
            "predictions\n",
            "[2.24846725e-12 9.47342612e-16 1.03602106e-10 5.39394750e-06\n",
            " 4.44373057e-07 8.33943972e-08 3.62092192e-17 4.76604256e-10\n",
            " 8.46794301e-11 9.99994040e-01]\n",
            "예측 성공!\n",
            "\n",
            "predictions\n",
            "[6.1486975e-17 1.2191276e-13 3.1023172e-12 2.8163750e-12 1.3083577e-12\n",
            " 9.9734747e-01 2.6456253e-03 3.2266546e-17 6.7747083e-06 1.0251360e-07]\n",
            "예측 성공!\n",
            "\n",
            "predictions\n",
            "[2.1271142e-14 1.6716568e-13 7.3336053e-11 2.6843654e-09 2.5898157e-06\n",
            " 2.4094080e-10 9.5504947e-15 9.2881699e-08 5.0507838e-09 9.9999726e-01]\n",
            "예측 성공!\n"
          ],
          "name": "stdout"
        }
      ]
    }
  ]
}