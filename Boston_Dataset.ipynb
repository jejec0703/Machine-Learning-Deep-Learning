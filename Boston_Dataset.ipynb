{
  "nbformat": 4,
  "nbformat_minor": 0,
  "metadata": {
    "colab": {
      "name": "Boston Dataset",
      "provenance": [],
      "collapsed_sections": [],
      "authorship_tag": "ABX9TyMPKQ059SGTEO78oC3nO5J4",
      "include_colab_link": true
    },
    "kernelspec": {
      "name": "python3",
      "display_name": "Python 3"
    }
  },
  "cells": [
    {
      "cell_type": "markdown",
      "metadata": {
        "id": "view-in-github",
        "colab_type": "text"
      },
      "source": [
        "<a href=\"https://colab.research.google.com/github/jejec0703/Machine-Learning-Deep-Learning/blob/master/Boston_Dataset.ipynb\" target=\"_parent\"><img src=\"https://colab.research.google.com/assets/colab-badge.svg\" alt=\"Open In Colab\"/></a>"
      ]
    },
    {
      "cell_type": "markdown",
      "metadata": {
        "id": "zWddrgjJLs6d",
        "colab_type": "text"
      },
      "source": [
        "- linear regression\n",
        "- ridge, lasso, elasticnet\n",
        "- mse\n",
        "- r2 score\n",
        "- f1\n",
        "- print"
      ]
    },
    {
      "cell_type": "code",
      "metadata": {
        "id": "5pgjllU5MCPE",
        "colab_type": "code",
        "colab": {}
      },
      "source": [
        "from sklearn.datasets import load_boston"
      ],
      "execution_count": null,
      "outputs": []
    },
    {
      "cell_type": "code",
      "metadata": {
        "id": "QEiILkCuMIpL",
        "colab_type": "code",
        "colab": {}
      },
      "source": [
        "import matplotlib.pyplot as plt\n",
        "import numpy as np\n",
        "import pandas as pd"
      ],
      "execution_count": null,
      "outputs": []
    },
    {
      "cell_type": "markdown",
      "metadata": {
        "id": "E_cUvnzUMtqk",
        "colab_type": "text"
      },
      "source": [
        "1. Linear Regression"
      ]
    },
    {
      "cell_type": "code",
      "metadata": {
        "id": "HSTR8Gc_MQdn",
        "colab_type": "code",
        "colab": {}
      },
      "source": [
        "boston = load_boston()\n",
        "X = boston.data\n",
        "y = boston.target"
      ],
      "execution_count": null,
      "outputs": []
    },
    {
      "cell_type": "code",
      "metadata": {
        "id": "7-MYXm2s0wZT",
        "colab_type": "code",
        "colab": {
          "base_uri": "https://localhost:8080/",
          "height": 215
        },
        "outputId": "54dc92ed-5295-4d8b-92fe-33ba1c43e0f6"
      },
      "source": [
        "df_boston = pd.DataFrame(boston.data, columns=boston.feature_names)\n",
        "df_boston.head()"
      ],
      "execution_count": null,
      "outputs": [
        {
          "output_type": "execute_result",
          "data": {
            "text/html": [
              "<div>\n",
              "<style scoped>\n",
              "    .dataframe tbody tr th:only-of-type {\n",
              "        vertical-align: middle;\n",
              "    }\n",
              "\n",
              "    .dataframe tbody tr th {\n",
              "        vertical-align: top;\n",
              "    }\n",
              "\n",
              "    .dataframe thead th {\n",
              "        text-align: right;\n",
              "    }\n",
              "</style>\n",
              "<table border=\"1\" class=\"dataframe\">\n",
              "  <thead>\n",
              "    <tr style=\"text-align: right;\">\n",
              "      <th></th>\n",
              "      <th>CRIM</th>\n",
              "      <th>ZN</th>\n",
              "      <th>INDUS</th>\n",
              "      <th>CHAS</th>\n",
              "      <th>NOX</th>\n",
              "      <th>RM</th>\n",
              "      <th>AGE</th>\n",
              "      <th>DIS</th>\n",
              "      <th>RAD</th>\n",
              "      <th>TAX</th>\n",
              "      <th>PTRATIO</th>\n",
              "      <th>B</th>\n",
              "      <th>LSTAT</th>\n",
              "    </tr>\n",
              "  </thead>\n",
              "  <tbody>\n",
              "    <tr>\n",
              "      <th>0</th>\n",
              "      <td>0.00632</td>\n",
              "      <td>18.0</td>\n",
              "      <td>2.31</td>\n",
              "      <td>0.0</td>\n",
              "      <td>0.538</td>\n",
              "      <td>6.575</td>\n",
              "      <td>65.2</td>\n",
              "      <td>4.0900</td>\n",
              "      <td>1.0</td>\n",
              "      <td>296.0</td>\n",
              "      <td>15.3</td>\n",
              "      <td>396.90</td>\n",
              "      <td>4.98</td>\n",
              "    </tr>\n",
              "    <tr>\n",
              "      <th>1</th>\n",
              "      <td>0.02731</td>\n",
              "      <td>0.0</td>\n",
              "      <td>7.07</td>\n",
              "      <td>0.0</td>\n",
              "      <td>0.469</td>\n",
              "      <td>6.421</td>\n",
              "      <td>78.9</td>\n",
              "      <td>4.9671</td>\n",
              "      <td>2.0</td>\n",
              "      <td>242.0</td>\n",
              "      <td>17.8</td>\n",
              "      <td>396.90</td>\n",
              "      <td>9.14</td>\n",
              "    </tr>\n",
              "    <tr>\n",
              "      <th>2</th>\n",
              "      <td>0.02729</td>\n",
              "      <td>0.0</td>\n",
              "      <td>7.07</td>\n",
              "      <td>0.0</td>\n",
              "      <td>0.469</td>\n",
              "      <td>7.185</td>\n",
              "      <td>61.1</td>\n",
              "      <td>4.9671</td>\n",
              "      <td>2.0</td>\n",
              "      <td>242.0</td>\n",
              "      <td>17.8</td>\n",
              "      <td>392.83</td>\n",
              "      <td>4.03</td>\n",
              "    </tr>\n",
              "    <tr>\n",
              "      <th>3</th>\n",
              "      <td>0.03237</td>\n",
              "      <td>0.0</td>\n",
              "      <td>2.18</td>\n",
              "      <td>0.0</td>\n",
              "      <td>0.458</td>\n",
              "      <td>6.998</td>\n",
              "      <td>45.8</td>\n",
              "      <td>6.0622</td>\n",
              "      <td>3.0</td>\n",
              "      <td>222.0</td>\n",
              "      <td>18.7</td>\n",
              "      <td>394.63</td>\n",
              "      <td>2.94</td>\n",
              "    </tr>\n",
              "    <tr>\n",
              "      <th>4</th>\n",
              "      <td>0.06905</td>\n",
              "      <td>0.0</td>\n",
              "      <td>2.18</td>\n",
              "      <td>0.0</td>\n",
              "      <td>0.458</td>\n",
              "      <td>7.147</td>\n",
              "      <td>54.2</td>\n",
              "      <td>6.0622</td>\n",
              "      <td>3.0</td>\n",
              "      <td>222.0</td>\n",
              "      <td>18.7</td>\n",
              "      <td>396.90</td>\n",
              "      <td>5.33</td>\n",
              "    </tr>\n",
              "  </tbody>\n",
              "</table>\n",
              "</div>"
            ],
            "text/plain": [
              "      CRIM    ZN  INDUS  CHAS    NOX  ...  RAD    TAX  PTRATIO       B  LSTAT\n",
              "0  0.00632  18.0   2.31   0.0  0.538  ...  1.0  296.0     15.3  396.90   4.98\n",
              "1  0.02731   0.0   7.07   0.0  0.469  ...  2.0  242.0     17.8  396.90   9.14\n",
              "2  0.02729   0.0   7.07   0.0  0.469  ...  2.0  242.0     17.8  392.83   4.03\n",
              "3  0.03237   0.0   2.18   0.0  0.458  ...  3.0  222.0     18.7  394.63   2.94\n",
              "4  0.06905   0.0   2.18   0.0  0.458  ...  3.0  222.0     18.7  396.90   5.33\n",
              "\n",
              "[5 rows x 13 columns]"
            ]
          },
          "metadata": {
            "tags": []
          },
          "execution_count": 4
        }
      ]
    },
    {
      "cell_type": "code",
      "metadata": {
        "id": "GU-I1AIvMThJ",
        "colab_type": "code",
        "colab": {
          "base_uri": "https://localhost:8080/",
          "height": 34
        },
        "outputId": "acd30395-33a9-4692-a87d-517d102319e1"
      },
      "source": [
        "from sklearn.model_selection import train_test_split\n",
        "X_train, X_test, y_train, y_test = train_test_split(X, y, random_state=42, test_size=0.2)\n",
        "X_train.shape, y_train.shape, X_test.shape, y_test.shape"
      ],
      "execution_count": null,
      "outputs": [
        {
          "output_type": "execute_result",
          "data": {
            "text/plain": [
              "((404, 13), (404,), (102, 13), (102,))"
            ]
          },
          "metadata": {
            "tags": []
          },
          "execution_count": 5
        }
      ]
    },
    {
      "cell_type": "code",
      "metadata": {
        "id": "IYDq3K3TNGRK",
        "colab_type": "code",
        "colab": {
          "base_uri": "https://localhost:8080/",
          "height": 34
        },
        "outputId": "f4d5b9c1-d6b1-4d26-8fae-1f98272e41e1"
      },
      "source": [
        "from sklearn.linear_model import LinearRegression\n",
        "lin_reg = LinearRegression().fit(X_train, y_train)\n",
        "lin_reg"
      ],
      "execution_count": null,
      "outputs": [
        {
          "output_type": "execute_result",
          "data": {
            "text/plain": [
              "LinearRegression(copy_X=True, fit_intercept=True, n_jobs=None, normalize=False)"
            ]
          },
          "metadata": {
            "tags": []
          },
          "execution_count": 6
        }
      ]
    },
    {
      "cell_type": "code",
      "metadata": {
        "id": "3B174ibwNN27",
        "colab_type": "code",
        "colab": {
          "base_uri": "https://localhost:8080/",
          "height": 34
        },
        "outputId": "61d45a70-0101-4130-c1fa-37fa90086523"
      },
      "source": [
        "y_pred = lin_reg.predict(X_train)\n",
        "y_pred.shape"
      ],
      "execution_count": null,
      "outputs": [
        {
          "output_type": "execute_result",
          "data": {
            "text/plain": [
              "(404,)"
            ]
          },
          "metadata": {
            "tags": []
          },
          "execution_count": 7
        }
      ]
    },
    {
      "cell_type": "code",
      "metadata": {
        "id": "GEpyyw0jNhXj",
        "colab_type": "code",
        "colab": {
          "base_uri": "https://localhost:8080/",
          "height": 52
        },
        "outputId": "9b89944c-c054-4264-dfe3-c5c6e862fa58"
      },
      "source": [
        "print('train score : {}'.format(lin_reg.score(X_train, y_train)))\n",
        "print('test score : {}'.format(lin_reg.score(X_test, y_test)))"
      ],
      "execution_count": null,
      "outputs": [
        {
          "output_type": "stream",
          "text": [
            "train score : 0.7508856358979672\n",
            "test score : 0.6687594935356307\n"
          ],
          "name": "stdout"
        }
      ]
    },
    {
      "cell_type": "code",
      "metadata": {
        "id": "y4K8qnYiNtF6",
        "colab_type": "code",
        "colab": {
          "base_uri": "https://localhost:8080/",
          "height": 87
        },
        "outputId": "e9c51c33-2666-4974-a7bb-5cadd7869c83"
      },
      "source": [
        "lin_reg.coef_, lin_reg.intercept_"
      ],
      "execution_count": null,
      "outputs": [
        {
          "output_type": "execute_result",
          "data": {
            "text/plain": [
              "(array([-1.13055924e-01,  3.01104641e-02,  4.03807204e-02,  2.78443820e+00,\n",
              "        -1.72026334e+01,  4.43883520e+00, -6.29636221e-03, -1.44786537e+00,\n",
              "         2.62429736e-01, -1.06467863e-02, -9.15456240e-01,  1.23513347e-02,\n",
              "        -5.08571424e-01]), 30.246750993923925)"
            ]
          },
          "metadata": {
            "tags": []
          },
          "execution_count": 9
        }
      ]
    },
    {
      "cell_type": "code",
      "metadata": {
        "id": "04172OnrO6yt",
        "colab_type": "code",
        "colab": {}
      },
      "source": [
        "##### Unknown label type: 'continuous' : 연속형 데이터가 들어와서 에러남 \n",
        "##### categorical 들어와야하는데"
      ],
      "execution_count": null,
      "outputs": []
    },
    {
      "cell_type": "markdown",
      "metadata": {
        "id": "wjtKAoad8Nis",
        "colab_type": "text"
      },
      "source": [
        "2. Ridge / Lasso / ElasticNet "
      ]
    },
    {
      "cell_type": "code",
      "metadata": {
        "id": "cZbcXcLwiknV",
        "colab_type": "code",
        "colab": {}
      },
      "source": [
        "from sklearn.linear_model import Ridge"
      ],
      "execution_count": null,
      "outputs": []
    },
    {
      "cell_type": "code",
      "metadata": {
        "id": "Aq-NCIGQONNn",
        "colab_type": "code",
        "colab": {}
      },
      "source": [
        "ridge = Ridge(alpha=0.001).fit(X_train, y_train)"
      ],
      "execution_count": null,
      "outputs": []
    },
    {
      "cell_type": "code",
      "metadata": {
        "id": "DPTPtIp7Onyd",
        "colab_type": "code",
        "colab": {
          "base_uri": "https://localhost:8080/",
          "height": 52
        },
        "outputId": "b67b8eff-8d03-4dc6-b5a8-78a62389c3ac"
      },
      "source": [
        "print('train score : {}'.format(ridge.score(X_train, y_train)))\n",
        "print('test score : {}'.format(ridge.score(X_test, y_test)))"
      ],
      "execution_count": null,
      "outputs": [
        {
          "output_type": "stream",
          "text": [
            "train score : 0.7508856291109945\n",
            "test score : 0.6687586974995461\n"
          ],
          "name": "stdout"
        }
      ]
    },
    {
      "cell_type": "code",
      "metadata": {
        "id": "tVJFEFqCSCLK",
        "colab_type": "code",
        "colab": {
          "base_uri": "https://localhost:8080/",
          "height": 87
        },
        "outputId": "5507b603-7504-43bd-ed9f-2e6e2be819c0"
      },
      "source": [
        "ridge.coef_, ridge.intercept_"
      ],
      "execution_count": null,
      "outputs": [
        {
          "output_type": "execute_result",
          "data": {
            "text/plain": [
              "(array([-1.13048818e-01,  3.01142162e-02,  4.03215214e-02,  2.78407722e+00,\n",
              "        -1.71888387e+01,  4.43891333e+00, -6.30727570e-03, -1.44766825e+00,\n",
              "         2.62403820e-01, -1.06482208e-02, -9.15297505e-01,  1.23518659e-02,\n",
              "        -5.08596323e-01]), 30.237220919203853)"
            ]
          },
          "metadata": {
            "tags": []
          },
          "execution_count": 39
        }
      ]
    },
    {
      "cell_type": "code",
      "metadata": {
        "id": "CfV7Og7qPD25",
        "colab_type": "code",
        "colab": {}
      },
      "source": [
        "from sklearn.linear_model import Lasso"
      ],
      "execution_count": null,
      "outputs": []
    },
    {
      "cell_type": "code",
      "metadata": {
        "id": "bdVmFO9IQZxS",
        "colab_type": "code",
        "colab": {}
      },
      "source": [
        "lasso = Lasso(alpha=0.001).fit(X_train, y_train)"
      ],
      "execution_count": null,
      "outputs": []
    },
    {
      "cell_type": "code",
      "metadata": {
        "id": "IdHwzeG6QfZb",
        "colab_type": "code",
        "colab": {
          "base_uri": "https://localhost:8080/",
          "height": 52
        },
        "outputId": "e1f4f90c-fac9-4843-da14-4d2e35771b14"
      },
      "source": [
        "print('train score : {}'.format(lasso.score(X_train, y_train)))\n",
        "print('test score : {}'.format(lasso.score(X_test, y_test)))"
      ],
      "execution_count": null,
      "outputs": [
        {
          "output_type": "stream",
          "text": [
            "train score : 0.7508814017164855\n",
            "test score : 0.6687912341337345\n"
          ],
          "name": "stdout"
        }
      ]
    },
    {
      "cell_type": "code",
      "metadata": {
        "id": "ARGMUz9xR1iS",
        "colab_type": "code",
        "colab": {
          "base_uri": "https://localhost:8080/",
          "height": 87
        },
        "outputId": "db1c5ae6-4570-4ef8-cdc4-fc366d8d510f"
      },
      "source": [
        "lasso.coef_, lasso.intercept_"
      ],
      "execution_count": null,
      "outputs": [
        {
          "output_type": "execute_result",
          "data": {
            "text/plain": [
              "(array([-1.12881360e-01,  3.01954998e-02,  3.89490293e-02,  2.76307020e+00,\n",
              "        -1.68662604e+01,  4.43878387e+00, -6.51620597e-03, -1.44268060e+00,\n",
              "         2.61824758e-01, -1.06817501e-02, -9.11693590e-01,  1.23646200e-02,\n",
              "        -5.09377240e-01]), 30.02702982625408)"
            ]
          },
          "metadata": {
            "tags": []
          },
          "execution_count": 37
        }
      ]
    },
    {
      "cell_type": "code",
      "metadata": {
        "id": "5Sc16CSRQik6",
        "colab_type": "code",
        "colab": {}
      },
      "source": [
        "from sklearn.linear_model import ElasticNet"
      ],
      "execution_count": null,
      "outputs": []
    },
    {
      "cell_type": "code",
      "metadata": {
        "id": "p5sJ1QtLQtSQ",
        "colab_type": "code",
        "colab": {}
      },
      "source": [
        "elastic = ElasticNet(alpha=0.001, l1_ratio=0.5).fit(X_train, y_train)"
      ],
      "execution_count": null,
      "outputs": []
    },
    {
      "cell_type": "code",
      "metadata": {
        "id": "tTVVcErWRMgh",
        "colab_type": "code",
        "colab": {
          "base_uri": "https://localhost:8080/",
          "height": 52
        },
        "outputId": "918b1263-4bb1-4ef1-d5ac-2f82129175c8"
      },
      "source": [
        "print('train score : {}'.format(elastic.score(X_train, y_train)))\n",
        "print('test score : {}'.format(elastic.score(X_test, y_test)))"
      ],
      "execution_count": null,
      "outputs": [
        {
          "output_type": "stream",
          "text": [
            "train score : 0.7506541823292177\n",
            "test score : 0.6683943813675851\n"
          ],
          "name": "stdout"
        }
      ]
    },
    {
      "cell_type": "code",
      "metadata": {
        "id": "Cw97HDU0Rwix",
        "colab_type": "code",
        "colab": {
          "base_uri": "https://localhost:8080/",
          "height": 87
        },
        "outputId": "fc122881-c421-4c94-dd80-79585ca4b087"
      },
      "source": [
        "elastic.coef_, elastic.intercept_"
      ],
      "execution_count": null,
      "outputs": [
        {
          "output_type": "execute_result",
          "data": {
            "text/plain": [
              "(array([-1.11752838e-01,  3.08045731e-02,  2.94653747e-02,  2.70895909e+00,\n",
              "        -1.46575791e+01,  4.45107972e+00, -8.27533203e-03, -1.41133421e+00,\n",
              "         2.57719116e-01, -1.09135123e-02, -8.86315016e-01,  1.24492033e-02,\n",
              "        -5.13360477e-01]), 28.505089940586423)"
            ]
          },
          "metadata": {
            "tags": []
          },
          "execution_count": 38
        }
      ]
    },
    {
      "cell_type": "markdown",
      "metadata": {
        "id": "Fsw1zsHSSAPH",
        "colab_type": "text"
      },
      "source": [
        "3. mse"
      ]
    },
    {
      "cell_type": "code",
      "metadata": {
        "id": "dBEhgyLISLhS",
        "colab_type": "code",
        "colab": {}
      },
      "source": [
        "from sklearn.metrics import mean_squared_error"
      ],
      "execution_count": null,
      "outputs": []
    },
    {
      "cell_type": "code",
      "metadata": {
        "id": "0fTKvMKzSR0L",
        "colab_type": "code",
        "colab": {
          "base_uri": "https://localhost:8080/",
          "height": 34
        },
        "outputId": "a9775904-92cb-4845-d8f1-0e387acf9dd6"
      },
      "source": [
        "train_mse = mean_squared_error(y_train, y_pred)\n",
        "train_mse"
      ],
      "execution_count": null,
      "outputs": [
        {
          "output_type": "execute_result",
          "data": {
            "text/plain": [
              "21.641412753226323"
            ]
          },
          "metadata": {
            "tags": []
          },
          "execution_count": 51
        }
      ]
    },
    {
      "cell_type": "code",
      "metadata": {
        "id": "asAG632XSXHN",
        "colab_type": "code",
        "colab": {
          "base_uri": "https://localhost:8080/",
          "height": 34
        },
        "outputId": "1992e2ef-58b2-4750-d4e5-376628788b0a"
      },
      "source": [
        "y_train.std(), y_pred.std()"
      ],
      "execution_count": null,
      "outputs": [
        {
          "output_type": "execute_result",
          "data": {
            "text/plain": [
              "(9.320590315691252, 8.076632409595662)"
            ]
          },
          "metadata": {
            "tags": []
          },
          "execution_count": 52
        }
      ]
    },
    {
      "cell_type": "markdown",
      "metadata": {
        "id": "U6v-5XeYUSB0",
        "colab_type": "text"
      },
      "source": [
        "4. R2_score"
      ]
    },
    {
      "cell_type": "code",
      "metadata": {
        "id": "gNyYl8JsUeG_",
        "colab_type": "code",
        "colab": {}
      },
      "source": [
        "from sklearn.metrics import r2_score"
      ],
      "execution_count": null,
      "outputs": []
    },
    {
      "cell_type": "code",
      "metadata": {
        "id": "AZFr0lUjUgnG",
        "colab_type": "code",
        "colab": {
          "base_uri": "https://localhost:8080/",
          "height": 34
        },
        "outputId": "18bc78c1-515e-4272-b485-b5d5ec8719a1"
      },
      "source": [
        "r2_score(y_train, y_pred)"
      ],
      "execution_count": null,
      "outputs": [
        {
          "output_type": "execute_result",
          "data": {
            "text/plain": [
              "0.7508856358979672"
            ]
          },
          "metadata": {
            "tags": []
          },
          "execution_count": 53
        }
      ]
    },
    {
      "cell_type": "markdown",
      "metadata": {
        "id": "dQFyBCa5cLyH",
        "colab_type": "text"
      },
      "source": [
        "## Boston extended Dataset"
      ]
    },
    {
      "cell_type": "code",
      "metadata": {
        "id": "2pjtcd-CczSp",
        "colab_type": "code",
        "colab": {
          "base_uri": "https://localhost:8080/",
          "height": 459
        },
        "outputId": "715111f9-a54a-4905-83e4-e1dc8fb00cb9"
      },
      "source": [
        "!pip install mglearn"
      ],
      "execution_count": null,
      "outputs": [
        {
          "output_type": "stream",
          "text": [
            "Collecting mglearn\n",
            "\u001b[?25l  Downloading https://files.pythonhosted.org/packages/65/38/8aced26fce0b2ae82c3c87cd3b6105f38ca6d9d51704ecc44aa54473e6b9/mglearn-0.1.9.tar.gz (540kB)\n",
            "\u001b[K     |████████████████████████████████| 542kB 2.8MB/s \n",
            "\u001b[?25hRequirement already satisfied: numpy in /usr/local/lib/python3.6/dist-packages (from mglearn) (1.18.5)\n",
            "Requirement already satisfied: matplotlib in /usr/local/lib/python3.6/dist-packages (from mglearn) (3.2.2)\n",
            "Requirement already satisfied: scikit-learn in /usr/local/lib/python3.6/dist-packages (from mglearn) (0.22.2.post1)\n",
            "Requirement already satisfied: pandas in /usr/local/lib/python3.6/dist-packages (from mglearn) (1.0.5)\n",
            "Requirement already satisfied: pillow in /usr/local/lib/python3.6/dist-packages (from mglearn) (7.0.0)\n",
            "Requirement already satisfied: cycler in /usr/local/lib/python3.6/dist-packages (from mglearn) (0.10.0)\n",
            "Requirement already satisfied: imageio in /usr/local/lib/python3.6/dist-packages (from mglearn) (2.4.1)\n",
            "Requirement already satisfied: joblib in /usr/local/lib/python3.6/dist-packages (from mglearn) (0.15.1)\n",
            "Requirement already satisfied: python-dateutil>=2.1 in /usr/local/lib/python3.6/dist-packages (from matplotlib->mglearn) (2.8.1)\n",
            "Requirement already satisfied: pyparsing!=2.0.4,!=2.1.2,!=2.1.6,>=2.0.1 in /usr/local/lib/python3.6/dist-packages (from matplotlib->mglearn) (2.4.7)\n",
            "Requirement already satisfied: kiwisolver>=1.0.1 in /usr/local/lib/python3.6/dist-packages (from matplotlib->mglearn) (1.2.0)\n",
            "Requirement already satisfied: scipy>=0.17.0 in /usr/local/lib/python3.6/dist-packages (from scikit-learn->mglearn) (1.4.1)\n",
            "Requirement already satisfied: pytz>=2017.2 in /usr/local/lib/python3.6/dist-packages (from pandas->mglearn) (2018.9)\n",
            "Requirement already satisfied: six in /usr/local/lib/python3.6/dist-packages (from cycler->mglearn) (1.12.0)\n",
            "Building wheels for collected packages: mglearn\n",
            "  Building wheel for mglearn (setup.py) ... \u001b[?25l\u001b[?25hdone\n",
            "  Created wheel for mglearn: filename=mglearn-0.1.9-py2.py3-none-any.whl size=582638 sha256=f1ef3ad2bbdf938b35add4778139d9d29a3e4bf81156a926d9770eae94f837a9\n",
            "  Stored in directory: /root/.cache/pip/wheels/eb/a6/ea/a6a3716233fa62fc561259b5cb1e28f79e9ff3592c0adac5f0\n",
            "Successfully built mglearn\n",
            "Installing collected packages: mglearn\n",
            "Successfully installed mglearn-0.1.9\n"
          ],
          "name": "stdout"
        }
      ]
    },
    {
      "cell_type": "code",
      "metadata": {
        "id": "B4jvrQDjcRYC",
        "colab_type": "code",
        "colab": {}
      },
      "source": [
        "import mglearn"
      ],
      "execution_count": null,
      "outputs": []
    },
    {
      "cell_type": "code",
      "metadata": {
        "id": "aXyB_8MmcpEp",
        "colab_type": "code",
        "colab": {}
      },
      "source": [
        "from mglearn.datasets import load_extended_boston"
      ],
      "execution_count": null,
      "outputs": []
    },
    {
      "cell_type": "code",
      "metadata": {
        "id": "f6sGwd_liDdt",
        "colab_type": "code",
        "colab": {}
      },
      "source": [
        "boston_extended = load_extended_boston()"
      ],
      "execution_count": null,
      "outputs": []
    },
    {
      "cell_type": "code",
      "metadata": {
        "id": "BtghnEUyic-l",
        "colab_type": "code",
        "colab": {
          "base_uri": "https://localhost:8080/",
          "height": 1000
        },
        "outputId": "7bea0fb6-25bb-4968-9012-10c521e6ae4d"
      },
      "source": [
        "boston_extended"
      ],
      "execution_count": null,
      "outputs": [
        {
          "output_type": "execute_result",
          "data": {
            "text/plain": [
              "(array([[0.00000000e+00, 1.80000000e-01, 6.78152493e-02, ...,\n",
              "         1.00000000e+00, 8.96799117e-02, 8.04248656e-03],\n",
              "        [2.35922539e-04, 0.00000000e+00, 2.42302053e-01, ...,\n",
              "         1.00000000e+00, 2.04470199e-01, 4.18080621e-02],\n",
              "        [2.35697744e-04, 0.00000000e+00, 2.42302053e-01, ...,\n",
              "         9.79579831e-01, 6.28144504e-02, 4.02790570e-03],\n",
              "        ...,\n",
              "        [6.11892474e-04, 0.00000000e+00, 4.20454545e-01, ...,\n",
              "         1.00000000e+00, 1.07891832e-01, 1.16406475e-02],\n",
              "        [1.16072990e-03, 0.00000000e+00, 4.20454545e-01, ...,\n",
              "         9.82676920e-01, 1.29930407e-01, 1.71795127e-02],\n",
              "        [4.61841693e-04, 0.00000000e+00, 4.20454545e-01, ...,\n",
              "         1.00000000e+00, 1.69701987e-01, 2.87987643e-02]]),\n",
              " array([24. , 21.6, 34.7, 33.4, 36.2, 28.7, 22.9, 27.1, 16.5, 18.9, 15. ,\n",
              "        18.9, 21.7, 20.4, 18.2, 19.9, 23.1, 17.5, 20.2, 18.2, 13.6, 19.6,\n",
              "        15.2, 14.5, 15.6, 13.9, 16.6, 14.8, 18.4, 21. , 12.7, 14.5, 13.2,\n",
              "        13.1, 13.5, 18.9, 20. , 21. , 24.7, 30.8, 34.9, 26.6, 25.3, 24.7,\n",
              "        21.2, 19.3, 20. , 16.6, 14.4, 19.4, 19.7, 20.5, 25. , 23.4, 18.9,\n",
              "        35.4, 24.7, 31.6, 23.3, 19.6, 18.7, 16. , 22.2, 25. , 33. , 23.5,\n",
              "        19.4, 22. , 17.4, 20.9, 24.2, 21.7, 22.8, 23.4, 24.1, 21.4, 20. ,\n",
              "        20.8, 21.2, 20.3, 28. , 23.9, 24.8, 22.9, 23.9, 26.6, 22.5, 22.2,\n",
              "        23.6, 28.7, 22.6, 22. , 22.9, 25. , 20.6, 28.4, 21.4, 38.7, 43.8,\n",
              "        33.2, 27.5, 26.5, 18.6, 19.3, 20.1, 19.5, 19.5, 20.4, 19.8, 19.4,\n",
              "        21.7, 22.8, 18.8, 18.7, 18.5, 18.3, 21.2, 19.2, 20.4, 19.3, 22. ,\n",
              "        20.3, 20.5, 17.3, 18.8, 21.4, 15.7, 16.2, 18. , 14.3, 19.2, 19.6,\n",
              "        23. , 18.4, 15.6, 18.1, 17.4, 17.1, 13.3, 17.8, 14. , 14.4, 13.4,\n",
              "        15.6, 11.8, 13.8, 15.6, 14.6, 17.8, 15.4, 21.5, 19.6, 15.3, 19.4,\n",
              "        17. , 15.6, 13.1, 41.3, 24.3, 23.3, 27. , 50. , 50. , 50. , 22.7,\n",
              "        25. , 50. , 23.8, 23.8, 22.3, 17.4, 19.1, 23.1, 23.6, 22.6, 29.4,\n",
              "        23.2, 24.6, 29.9, 37.2, 39.8, 36.2, 37.9, 32.5, 26.4, 29.6, 50. ,\n",
              "        32. , 29.8, 34.9, 37. , 30.5, 36.4, 31.1, 29.1, 50. , 33.3, 30.3,\n",
              "        34.6, 34.9, 32.9, 24.1, 42.3, 48.5, 50. , 22.6, 24.4, 22.5, 24.4,\n",
              "        20. , 21.7, 19.3, 22.4, 28.1, 23.7, 25. , 23.3, 28.7, 21.5, 23. ,\n",
              "        26.7, 21.7, 27.5, 30.1, 44.8, 50. , 37.6, 31.6, 46.7, 31.5, 24.3,\n",
              "        31.7, 41.7, 48.3, 29. , 24. , 25.1, 31.5, 23.7, 23.3, 22. , 20.1,\n",
              "        22.2, 23.7, 17.6, 18.5, 24.3, 20.5, 24.5, 26.2, 24.4, 24.8, 29.6,\n",
              "        42.8, 21.9, 20.9, 44. , 50. , 36. , 30.1, 33.8, 43.1, 48.8, 31. ,\n",
              "        36.5, 22.8, 30.7, 50. , 43.5, 20.7, 21.1, 25.2, 24.4, 35.2, 32.4,\n",
              "        32. , 33.2, 33.1, 29.1, 35.1, 45.4, 35.4, 46. , 50. , 32.2, 22. ,\n",
              "        20.1, 23.2, 22.3, 24.8, 28.5, 37.3, 27.9, 23.9, 21.7, 28.6, 27.1,\n",
              "        20.3, 22.5, 29. , 24.8, 22. , 26.4, 33.1, 36.1, 28.4, 33.4, 28.2,\n",
              "        22.8, 20.3, 16.1, 22.1, 19.4, 21.6, 23.8, 16.2, 17.8, 19.8, 23.1,\n",
              "        21. , 23.8, 23.1, 20.4, 18.5, 25. , 24.6, 23. , 22.2, 19.3, 22.6,\n",
              "        19.8, 17.1, 19.4, 22.2, 20.7, 21.1, 19.5, 18.5, 20.6, 19. , 18.7,\n",
              "        32.7, 16.5, 23.9, 31.2, 17.5, 17.2, 23.1, 24.5, 26.6, 22.9, 24.1,\n",
              "        18.6, 30.1, 18.2, 20.6, 17.8, 21.7, 22.7, 22.6, 25. , 19.9, 20.8,\n",
              "        16.8, 21.9, 27.5, 21.9, 23.1, 50. , 50. , 50. , 50. , 50. , 13.8,\n",
              "        13.8, 15. , 13.9, 13.3, 13.1, 10.2, 10.4, 10.9, 11.3, 12.3,  8.8,\n",
              "         7.2, 10.5,  7.4, 10.2, 11.5, 15.1, 23.2,  9.7, 13.8, 12.7, 13.1,\n",
              "        12.5,  8.5,  5. ,  6.3,  5.6,  7.2, 12.1,  8.3,  8.5,  5. , 11.9,\n",
              "        27.9, 17.2, 27.5, 15. , 17.2, 17.9, 16.3,  7. ,  7.2,  7.5, 10.4,\n",
              "         8.8,  8.4, 16.7, 14.2, 20.8, 13.4, 11.7,  8.3, 10.2, 10.9, 11. ,\n",
              "         9.5, 14.5, 14.1, 16.1, 14.3, 11.7, 13.4,  9.6,  8.7,  8.4, 12.8,\n",
              "        10.5, 17.1, 18.4, 15.4, 10.8, 11.8, 14.9, 12.6, 14.1, 13. , 13.4,\n",
              "        15.2, 16.1, 17.8, 14.9, 14.1, 12.7, 13.5, 14.9, 20. , 16.4, 17.7,\n",
              "        19.5, 20.2, 21.4, 19.9, 19. , 19.1, 19.1, 20.1, 19.9, 19.6, 23.2,\n",
              "        29.8, 13.8, 13.3, 16.7, 12. , 14.6, 21.4, 23. , 23.7, 25. , 21.8,\n",
              "        20.6, 21.2, 19.1, 20.6, 15.2,  7. ,  8.1, 13.6, 20.1, 21.8, 24.5,\n",
              "        23.1, 19.7, 18.3, 21.2, 17.5, 16.8, 22.4, 20.6, 23.9, 22. , 11.9]))"
            ]
          },
          "metadata": {
            "tags": []
          },
          "execution_count": 83
        }
      ]
    },
    {
      "cell_type": "code",
      "metadata": {
        "id": "qEBZxg2HiyvZ",
        "colab_type": "code",
        "colab": {}
      },
      "source": [
        "X_extended, y_extended = boston_extended"
      ],
      "execution_count": null,
      "outputs": []
    },
    {
      "cell_type": "code",
      "metadata": {
        "id": "jxcAi_V3iK4H",
        "colab_type": "code",
        "colab": {
          "base_uri": "https://localhost:8080/",
          "height": 34
        },
        "outputId": "83594643-6ed0-4891-9aeb-a4fdd48e972b"
      },
      "source": [
        "X_train, X_test, y_train, y_test = train_test_split(X_extended, y_extended, \n",
        "                                                    test_size=0.2, random_state=42)\n",
        "X_train.shape, y_train.shape, X_test.shape, y_test.shape"
      ],
      "execution_count": null,
      "outputs": [
        {
          "output_type": "execute_result",
          "data": {
            "text/plain": [
              "((404, 104), (404,), (102, 104), (102,))"
            ]
          },
          "metadata": {
            "tags": []
          },
          "execution_count": 88
        }
      ]
    },
    {
      "cell_type": "code",
      "metadata": {
        "id": "Fb9mNZDNiLVO",
        "colab_type": "code",
        "colab": {}
      },
      "source": [
        "from sklearn.linear_model import LogisticRegression\n",
        "log_reg = LinearRegression().fit(X_train, y_train)"
      ],
      "execution_count": null,
      "outputs": []
    },
    {
      "cell_type": "code",
      "metadata": {
        "id": "2w8BGksguHVS",
        "colab_type": "code",
        "colab": {
          "base_uri": "https://localhost:8080/",
          "height": 52
        },
        "outputId": "78dbe4d4-9ddc-4c2a-8a6b-54093cdbd993"
      },
      "source": [
        "print('train score : {}'.format(log_reg.score(X_train, y_train)))\n",
        "print('test score : {}'.format(log_reg.score(X_test, y_test)))"
      ],
      "execution_count": null,
      "outputs": [
        {
          "output_type": "stream",
          "text": [
            "train score : 0.94093170271135\n",
            "test score : 0.805582944797218\n"
          ],
          "name": "stdout"
        }
      ]
    },
    {
      "cell_type": "code",
      "metadata": {
        "id": "rj4JUpisuQI8",
        "colab_type": "code",
        "colab": {
          "base_uri": "https://localhost:8080/",
          "height": 492
        },
        "outputId": "709af955-d3e7-4624-e399-8f8281742ec4"
      },
      "source": [
        "log_reg.coef_, log_reg.intercept_"
      ],
      "execution_count": null,
      "outputs": [
        {
          "output_type": "execute_result",
          "data": {
            "text/plain": [
              "(array([-4.68916921e+02,  1.81755400e+01, -9.82349941e+01,  1.36193364e+01,\n",
              "         3.25031052e+01,  6.53975165e+01,  3.25560208e+01, -2.84628034e+01,\n",
              "         9.68934569e+00,  6.48362270e+01,  1.41418899e+01,  3.57858651e+01,\n",
              "         6.07807386e+00,  3.20435497e+00,  7.01047098e+02,  1.36083249e+03,\n",
              "         2.29313816e+02, -8.78762975e+01,  8.75779665e+01, -1.86254119e+01,\n",
              "        -7.27870330e+01,  6.40149331e+02, -1.66202225e+03,  5.45754843e+02,\n",
              "        -1.48495205e+01,  1.06780706e+02, -4.39361143e+00, -1.33886010e+01,\n",
              "        -4.13517309e+00, -6.64912882e+01, -1.83940066e+00,  1.20252839e+01,\n",
              "        -2.32085934e+01, -3.89846515e+01,  4.45581835e+01, -2.95985368e+00,\n",
              "         3.22510699e+00, -3.60031726e+01,  4.01516752e+01, -7.22997978e-01,\n",
              "        -2.85144058e+00,  4.78397894e+01,  1.16095836e+01,  4.59136539e+01,\n",
              "        -2.07990364e+01,  2.98497609e+00, -4.21383649e+00,  3.41186956e+01,\n",
              "        -1.82464812e+01,  1.36193364e+01, -1.78208749e+01, -2.74868041e+01,\n",
              "        -3.37967511e+00, -9.96303598e+00,  3.16456546e+00, -4.04586029e+00,\n",
              "        -7.85964621e+00,  4.50077557e+00, -9.87573388e+00, -2.33405044e+01,\n",
              "        -2.23903802e+01, -5.17712503e-01,  7.92135031e+01, -2.34638430e+01,\n",
              "         7.49512354e+01, -6.62384766e+01, -4.24939147e+00,  1.77330233e+01,\n",
              "         3.17407694e+01, -3.65401869e+01, -2.01560813e+01, -2.26336890e+01,\n",
              "        -4.00382820e+01, -2.66948726e+01, -1.37457089e+01, -1.32503534e+00,\n",
              "        -6.94329257e-01,  9.06835879e-01,  3.35067981e+01, -2.80412979e+01,\n",
              "         2.88011596e+00, -1.80211749e+01, -3.10870107e+01,  6.08920056e+01,\n",
              "         3.11731435e+00, -2.76397815e+01, -2.76374216e+01, -1.57854634e+01,\n",
              "         1.45352855e+01, -6.51090674e+01,  9.66536463e+01, -3.38659533e+01,\n",
              "         3.14364762e+01, -2.84811575e+01, -2.07473121e+01,  3.48504552e+01,\n",
              "        -7.01711897e+01, -1.51224897e+01,  1.69532876e+00,  1.40141995e+01,\n",
              "         3.01985491e+00, -4.77433551e+00, -1.96492244e+00,  2.39742965e+01]),\n",
              " -29.302867189795386)"
            ]
          },
          "metadata": {
            "tags": []
          },
          "execution_count": 92
        }
      ]
    },
    {
      "cell_type": "markdown",
      "metadata": {
        "id": "xQxPVmftuhHi",
        "colab_type": "text"
      },
      "source": [
        "1. Ridge / Lasso / ElasticNet"
      ]
    },
    {
      "cell_type": "code",
      "metadata": {
        "id": "yoDvLTLZuq8u",
        "colab_type": "code",
        "colab": {
          "base_uri": "https://localhost:8080/",
          "height": 52
        },
        "outputId": "0abe6fda-15bb-4ee5-c187-119367f886e5"
      },
      "source": [
        "from sklearn.linear_model import Ridge\n",
        "ridge = Ridge(alpha=0.1).fit(X_train, y_train)\n",
        "print('train score : {}'.format(ridge.score(X_train, y_train)))\n",
        "print('test score : {}'.format(ridge.score(X_test, y_test)))"
      ],
      "execution_count": null,
      "outputs": [
        {
          "output_type": "stream",
          "text": [
            "train score : 0.9120292678182622\n",
            "test score : 0.8510741726311931\n"
          ],
          "name": "stdout"
        }
      ]
    },
    {
      "cell_type": "code",
      "metadata": {
        "id": "gnZN3vUSu-sJ",
        "colab_type": "code",
        "colab": {
          "base_uri": "https://localhost:8080/",
          "height": 492
        },
        "outputId": "46e34b08-fbe7-4f27-b406-e7046bb468d7"
      },
      "source": [
        "ridge.coef_, ridge.intercept_"
      ],
      "execution_count": null,
      "outputs": [
        {
          "output_type": "execute_result",
          "data": {
            "text/plain": [
              "(array([-3.48100826e+00, -5.13295313e+00, -6.06465144e+00,  6.14751415e+00,\n",
              "         6.93438605e+00,  2.21947921e+01,  4.34688798e+00, -1.20585252e+01,\n",
              "         1.19333178e+01, -6.13957122e-01, -1.35827525e+00,  1.36542212e+01,\n",
              "        -2.41584930e+00,  7.03256386e+00,  2.01286746e-02, -1.71624714e+00,\n",
              "         1.01661058e+01, -1.44372730e+00,  4.86046718e+00, -3.13350380e+00,\n",
              "        -1.58317155e-01, -4.58541574e+00, -3.54546626e+00, -3.39881916e+00,\n",
              "        -2.97033288e+00,  2.91180326e+00,  2.64012812e+00, -2.01933860e+00,\n",
              "         7.12315499e+00,  1.22627046e+00,  6.16733278e+00, -1.87285940e+00,\n",
              "        -1.26857007e+00, -1.98022697e+00,  9.12224571e+00,  5.82962948e+00,\n",
              "        -3.16747750e+00, -7.01542085e+00,  6.61394735e+00,  4.12495876e+00,\n",
              "         7.16590615e+00,  4.32046716e+00,  4.53014915e+00, -4.40257393e+00,\n",
              "         4.09389310e+00,  8.21851151e+00, -8.58296820e+00,  9.93570316e-01,\n",
              "        -1.33247206e+01,  6.14751415e+00, -1.46646420e+01, -1.84897413e+01,\n",
              "         3.48774370e+00, -6.10192843e+00,  4.67271544e+00,  6.81851615e+00,\n",
              "        -2.75062417e+00,  4.96976821e-01, -6.70496163e+00, -2.96680681e+00,\n",
              "        -6.27240907e+00, -7.27285162e+00,  1.11274387e+00, -4.67415459e+00,\n",
              "        -1.05393109e+00, -5.19365384e+00, -2.56136539e+00,  4.71071329e+00,\n",
              "         2.49586564e+01, -4.91237180e+00,  3.52362338e+00, -1.88876999e+01,\n",
              "        -1.68126806e+01, -1.54304058e+01,  4.71855456e+00, -4.00399872e+00,\n",
              "         2.88465630e-01,  2.41714621e+00,  1.20778219e+01, -2.39432301e+00,\n",
              "        -4.60387201e-01, -6.36254447e+00, -9.60338876e+00,  1.16923307e+01,\n",
              "        -7.35502079e-01, -3.76057200e+00, -1.29574291e+00, -9.94742072e+00,\n",
              "         5.19743159e+00, -8.62588521e+00,  3.26203015e+00,  6.34518009e+00,\n",
              "         1.66830254e+00, -1.67182463e+01,  4.62595520e-01,  1.16237589e+01,\n",
              "        -3.36192014e+00, -1.51560304e+01,  3.47306724e+00, -7.82671077e-01,\n",
              "         3.34365900e+00,  4.51514029e-02, -7.84355070e+00,  2.47747292e+01]),\n",
              " 6.435551654600626)"
            ]
          },
          "metadata": {
            "tags": []
          },
          "execution_count": 94
        }
      ]
    },
    {
      "cell_type": "code",
      "metadata": {
        "id": "hHmfN_SsvC-q",
        "colab_type": "code",
        "colab": {
          "base_uri": "https://localhost:8080/",
          "height": 52
        },
        "outputId": "3ba1fd15-47bd-40bd-d3b1-2b6c69bd5256"
      },
      "source": [
        "from sklearn.linear_model import Lasso\n",
        "lasso = Lasso(alpha=0.1).fit(X_train, y_train)\n",
        "print('train score : {}'.format(lasso.score(X_train, y_train)))\n",
        "print('test score : {}'.format(lasso.score(X_test, y_test)))"
      ],
      "execution_count": null,
      "outputs": [
        {
          "output_type": "stream",
          "text": [
            "train score : 0.7469971327325291\n",
            "test score : 0.6960152938224358\n"
          ],
          "name": "stdout"
        }
      ]
    },
    {
      "cell_type": "code",
      "metadata": {
        "id": "ZgQlVqPNvQQV",
        "colab_type": "code",
        "colab": {
          "base_uri": "https://localhost:8080/",
          "height": 492
        },
        "outputId": "2382d082-6af7-46b8-af30-496f7086a19b"
      },
      "source": [
        "lasso.coef_, lasso.intercept_"
      ],
      "execution_count": null,
      "outputs": [
        {
          "output_type": "execute_result",
          "data": {
            "text/plain": [
              "(array([ -0.        ,   0.        ,  -0.        ,   0.        ,\n",
              "         -0.        ,   0.        ,  -0.        ,  -1.26436813,\n",
              "         -0.        ,  -0.        ,  -5.47530812,   0.        ,\n",
              "        -15.44014065,  -0.        ,   0.        ,  -0.        ,\n",
              "          0.        ,  -0.        ,  -0.        ,  -0.        ,\n",
              "         -0.        ,  -0.        ,  -0.        ,  -0.        ,\n",
              "         -0.        ,  -0.        ,   0.        ,  -0.        ,\n",
              "          0.        ,   0.        ,   0.        ,  -0.        ,\n",
              "         -0.        ,  -0.        ,  -0.        ,  -0.        ,\n",
              "          0.        ,  -0.        ,   0.        ,   0.        ,\n",
              "         -0.        ,  -0.        ,  -0.        ,  -0.        ,\n",
              "         -0.        ,  -0.        ,  -0.        ,   0.        ,\n",
              "         -0.        ,   0.        ,   0.        ,   0.        ,\n",
              "          0.        ,   0.        ,   0.        ,   0.        ,\n",
              "          0.        ,   2.28418167,  -0.        ,  -0.67552475,\n",
              "         -0.        ,  -0.        ,  -0.        ,  -0.        ,\n",
              "         -0.        ,  -0.        ,   0.        ,  -0.        ,\n",
              "         18.84747909,  -0.        ,  -0.        ,  -0.        ,\n",
              "         -2.23789045,  -0.        ,   7.12050504,  -0.        ,\n",
              "         -0.        ,  -0.        ,  -0.        ,  -0.        ,\n",
              "         -0.12827992,   0.        ,  -0.3241322 ,  -0.        ,\n",
              "         -0.        ,  -0.        ,  -0.        ,  -0.        ,\n",
              "         -0.        ,  -0.        ,  -0.        ,  -0.        ,\n",
              "          0.        ,  -0.        ,  -0.        ,  -0.        ,\n",
              "         -0.        ,  -0.7987795 ,  -0.        ,  -0.        ,\n",
              "         -0.        ,   0.        ,  -0.        ,  -0.        ]),\n",
              " 22.69531288625909)"
            ]
          },
          "metadata": {
            "tags": []
          },
          "execution_count": 96
        }
      ]
    },
    {
      "cell_type": "code",
      "metadata": {
        "id": "fFfWRiZevUvY",
        "colab_type": "code",
        "colab": {
          "base_uri": "https://localhost:8080/",
          "height": 52
        },
        "outputId": "44f5c100-c352-4b34-95ad-902ea9508b56"
      },
      "source": [
        "from sklearn.linear_model import ElasticNet\n",
        "elastic = ElasticNet(alpha=0.1, l1_ratio=0.5).fit(X_train, y_train)\n",
        "print('train score : {}'.format(elastic.score(X_train, y_train)))\n",
        "print('test score : {}'.format(elastic.score(X_test, y_test)))"
      ],
      "execution_count": null,
      "outputs": [
        {
          "output_type": "stream",
          "text": [
            "train score : 0.6942023466705182\n",
            "test score : 0.6478981885404185\n"
          ],
          "name": "stdout"
        }
      ]
    },
    {
      "cell_type": "code",
      "metadata": {
        "id": "DtTxSyvwvaQz",
        "colab_type": "code",
        "colab": {
          "base_uri": "https://localhost:8080/",
          "height": 404
        },
        "outputId": "2d2a23d1-d786-4ee9-bcd0-a2499621d6ea"
      },
      "source": [
        "elastic.coef_, elastic.intercept_"
      ],
      "execution_count": null,
      "outputs": [
        {
          "output_type": "execute_result",
          "data": {
            "text/plain": [
              "(array([-0.18096378,  0.06468358, -0.44527091,  0.62597541, -0.42004792,\n",
              "         3.7633937 , -0.        , -1.13742281,  0.        , -0.50618089,\n",
              "        -2.09797145,  0.95165746, -3.82261288, -0.        ,  0.        ,\n",
              "        -0.        ,  0.        , -0.        , -0.        , -0.09115656,\n",
              "        -0.        , -0.17384041, -0.07806332, -0.        , -0.        ,\n",
              "        -0.        ,  0.        , -0.        ,  0.        ,  0.        ,\n",
              "         0.59126226,  0.        , -0.        ,  0.        , -0.        ,\n",
              "        -0.        ,  0.08054046, -0.        , -0.        ,  0.        ,\n",
              "        -0.4568239 , -0.        , -0.        , -0.        , -0.        ,\n",
              "        -0.        , -0.30916117, -0.        , -1.24434019,  0.62600078,\n",
              "        -0.        ,  0.53247732,  0.1865154 ,  0.        ,  0.82761362,\n",
              "         0.58080713,  0.18801619,  0.85604381, -0.        , -1.10908839,\n",
              "         0.        , -0.35110434, -0.        , -0.        , -0.37867878,\n",
              "        -0.76292911,  0.        , -1.38208259,  5.79385207,  1.47714167,\n",
              "         0.        , -0.        , -0.        , -0.        ,  4.82140517,\n",
              "        -1.49033704,  0.        , -0.53038664,  0.        , -0.        ,\n",
              "        -1.48529192,  0.27850916, -2.88192639, -0.24238916, -0.        ,\n",
              "        -0.        , -0.82019572, -0.88533362, -0.33802154,  0.        ,\n",
              "        -0.        , -0.        ,  0.62940782, -1.19738231, -0.        ,\n",
              "        -0.26175397, -0.        , -1.62450873, -1.822708  , -0.812223  ,\n",
              "        -2.11008589,  0.92327543, -2.67837895, -0.73746136]),\n",
              " 23.13039308770356)"
            ]
          },
          "metadata": {
            "tags": []
          },
          "execution_count": 99
        }
      ]
    }
  ]
}