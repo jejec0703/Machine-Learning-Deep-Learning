{
  "nbformat": 4,
  "nbformat_minor": 0,
  "metadata": {
    "colab": {
      "name": "Mnist",
      "provenance": [],
      "collapsed_sections": [],
      "authorship_tag": "ABX9TyM0UFApcwlNroYp6hNxhm5L",
      "include_colab_link": true
    },
    "kernelspec": {
      "name": "python3",
      "display_name": "Python 3"
    }
  },
  "cells": [
    {
      "cell_type": "markdown",
      "metadata": {
        "id": "view-in-github",
        "colab_type": "text"
      },
      "source": [
        "<a href=\"https://colab.research.google.com/github/jejec0703/Machine-Learning-Deep-Learning/blob/master/Mnist.ipynb\" target=\"_parent\"><img src=\"https://colab.research.google.com/assets/colab-badge.svg\" alt=\"Open In Colab\"/></a>"
      ]
    },
    {
      "cell_type": "markdown",
      "metadata": {
        "id": "1-jFJu1aF4Gr",
        "colab_type": "text"
      },
      "source": [
        "## 데이터 분류 목적"
      ]
    },
    {
      "cell_type": "markdown",
      "metadata": {
        "id": "Q6_x_9q5GFEp",
        "colab_type": "text"
      },
      "source": [
        "### keras \n",
        "### High Level API"
      ]
    },
    {
      "cell_type": "code",
      "metadata": {
        "id": "tvaxttVWGK1g",
        "colab_type": "code",
        "colab": {}
      },
      "source": [
        "from tensorflow import keras\n",
        "import tensorflow as tf"
      ],
      "execution_count": null,
      "outputs": []
    },
    {
      "cell_type": "code",
      "metadata": {
        "id": "A2lHFe8BGS2A",
        "colab_type": "code",
        "colab": {}
      },
      "source": [
        "mnist = keras.datasets.mnist"
      ],
      "execution_count": null,
      "outputs": []
    },
    {
      "cell_type": "code",
      "metadata": {
        "id": "hz6Qg4E9GU94",
        "colab_type": "code",
        "colab": {
          "base_uri": "https://localhost:8080/",
          "height": 90
        },
        "outputId": "ef796684-7307-4173-b01d-06c772d280eb"
      },
      "source": [
        "(X_train, y_train), (X_test, y_test) = tf.keras.datasets.mnist.load_data()\n",
        "X_train.shape, y_train.shape, X_test.shape, y_test.shape"
      ],
      "execution_count": null,
      "outputs": [
        {
          "output_type": "stream",
          "text": [
            "Downloading data from https://storage.googleapis.com/tensorflow/tf-keras-datasets/mnist.npz\n",
            "11493376/11490434 [==============================] - 0s 0us/step\n"
          ],
          "name": "stdout"
        },
        {
          "output_type": "execute_result",
          "data": {
            "text/plain": [
              "((60000, 28, 28), (60000,), (10000, 28, 28), (10000,))"
            ]
          },
          "metadata": {
            "tags": []
          },
          "execution_count": 3
        }
      ]
    },
    {
      "cell_type": "code",
      "metadata": {
        "id": "c5xgc9t5Ge_j",
        "colab_type": "code",
        "colab": {
          "base_uri": "https://localhost:8080/",
          "height": 34
        },
        "outputId": "1b364b1e-6f8c-4f44-df44-1e5835789bba"
      },
      "source": [
        "X_train[0].shape"
      ],
      "execution_count": null,
      "outputs": [
        {
          "output_type": "execute_result",
          "data": {
            "text/plain": [
              "(28, 28)"
            ]
          },
          "metadata": {
            "tags": []
          },
          "execution_count": 4
        }
      ]
    },
    {
      "cell_type": "code",
      "metadata": {
        "id": "cx3mnDOqGqFf",
        "colab_type": "code",
        "colab": {
          "base_uri": "https://localhost:8080/",
          "height": 298
        },
        "outputId": "54793a95-61f7-4cf5-dcf2-848b25c482f4"
      },
      "source": [
        "import matplotlib.pyplot as plt\n",
        "plt.imshow(X_train[0], 'gray')\n",
        "plt.title(y_train[0])"
      ],
      "execution_count": null,
      "outputs": [
        {
          "output_type": "execute_result",
          "data": {
            "text/plain": [
              "Text(0.5, 1.0, '5')"
            ]
          },
          "metadata": {
            "tags": []
          },
          "execution_count": 5
        },
        {
          "output_type": "display_data",
          "data": {
            "image/png": "[encoded data removed]",
            "text/plain": [
              "<Figure size 432x288 with 1 Axes>"
            ]
          },
          "metadata": {
            "tags": [],
            "needs_background": "light"
          }
        }
      ]
    },
    {
      "cell_type": "code",
      "metadata": {
        "id": "QGAg-LRTGuio",
        "colab_type": "code",
        "colab": {
          "base_uri": "https://localhost:8080/",
          "height": 34
        },
        "outputId": "17e4e3ee-7d3a-49d8-9538-3bcd3399bea9"
      },
      "source": [
        "image = X_train[0]\n",
        "image.shape"
      ],
      "execution_count": null,
      "outputs": [
        {
          "output_type": "execute_result",
          "data": {
            "text/plain": [
              "(28, 28)"
            ]
          },
          "metadata": {
            "tags": []
          },
          "execution_count": 6
        }
      ]
    },
    {
      "cell_type": "code",
      "metadata": {
        "id": "zOtqAwzjHNxr",
        "colab_type": "code",
        "colab": {
          "base_uri": "https://localhost:8080/",
          "height": 34
        },
        "outputId": "844aeeda-4c1c-434f-f914-2b68817936fa"
      },
      "source": [
        "image = image[..., tf.newaxis]\n",
        "image.shape"
      ],
      "execution_count": null,
      "outputs": [
        {
          "output_type": "execute_result",
          "data": {
            "text/plain": [
              "(28, 28, 1)"
            ]
          },
          "metadata": {
            "tags": []
          },
          "execution_count": 7
        }
      ]
    },
    {
      "cell_type": "code",
      "metadata": {
        "id": "zc5eokGrHQVf",
        "colab_type": "code",
        "colab": {
          "base_uri": "https://localhost:8080/",
          "height": 34
        },
        "outputId": "68dc8394-ac94-4f38-fac7-f03d0d40798d"
      },
      "source": [
        "import numpy as np\n",
        "X_train[0].max(), X_train[0].min()"
      ],
      "execution_count": null,
      "outputs": [
        {
          "output_type": "execute_result",
          "data": {
            "text/plain": [
              "(255, 0)"
            ]
          },
          "metadata": {
            "tags": []
          },
          "execution_count": 8
        }
      ]
    },
    {
      "cell_type": "code",
      "metadata": {
        "id": "xNKDxBZIKHyl",
        "colab_type": "code",
        "colab": {}
      },
      "source": [
        "X_train = X_train/255.0\n",
        "X_test = X_test/255.0"
      ],
      "execution_count": null,
      "outputs": []
    },
    {
      "cell_type": "code",
      "metadata": {
        "id": "B6_d-K9MINLy",
        "colab_type": "code",
        "colab": {
          "base_uri": "https://localhost:8080/",
          "height": 34
        },
        "outputId": "77256ed4-dbeb-45b2-dbfd-951519be72bf"
      },
      "source": [
        "y_train"
      ],
      "execution_count": null,
      "outputs": [
        {
          "output_type": "execute_result",
          "data": {
            "text/plain": [
              "array([5, 0, 4, ..., 5, 6, 8], dtype=uint8)"
            ]
          },
          "metadata": {
            "tags": []
          },
          "execution_count": 10
        }
      ]
    },
    {
      "cell_type": "code",
      "metadata": {
        "id": "sC4c_XupIbLf",
        "colab_type": "code",
        "colab": {
          "base_uri": "https://localhost:8080/",
          "height": 34
        },
        "outputId": "b2ebbf8a-eec5-4f87-df39-917ce22c045b"
      },
      "source": [
        "y_train = tf.keras.utils.to_categorical(y_train)\n",
        "y_train.shape"
      ],
      "execution_count": null,
      "outputs": [
        {
          "output_type": "execute_result",
          "data": {
            "text/plain": [
              "(60000, 10)"
            ]
          },
          "metadata": {
            "tags": []
          },
          "execution_count": 11
        }
      ]
    },
    {
      "cell_type": "code",
      "metadata": {
        "id": "T7U2WameIgSj",
        "colab_type": "code",
        "colab": {
          "base_uri": "https://localhost:8080/",
          "height": 406
        },
        "outputId": "18210a93-d6b7-42f3-fea6-0a2dc68fe561"
      },
      "source": [
        "# 첫번째 방법\n",
        "L = tf.keras.layers\n",
        "model = tf.keras.Sequential([\n",
        "                             L.Flatten(),\n",
        "                             L.Dense(128, activation='relu'),\n",
        "                             L.Dense(64, activation='relu'),\n",
        "                             L.Dense(32, activation='relu'),\n",
        "                             L.Dense(10, activation='softmax'),\n",
        "                             L.Dropout(0.2)\n",
        "])\n",
        "\n",
        "model.compile(optimizer='adam',\n",
        "              loss='categorical_crossentropy',\n",
        "              metrics=['accuracy'])\n",
        "\n",
        "model.fit(X_train, y_train, epochs=10)"
      ],
      "execution_count": null,
      "outputs": [
        {
          "output_type": "stream",
          "text": [
            "Epoch 1/10\n",
            "1875/1875 [==============================] - 4s 2ms/step - loss: 3.4461 - accuracy: 0.7411\n",
            "Epoch 2/10\n",
            "1875/1875 [==============================] - 4s 2ms/step - loss: 3.2691 - accuracy: 0.7773\n",
            "Epoch 3/10\n",
            "1875/1875 [==============================] - 4s 2ms/step - loss: 3.2912 - accuracy: 0.7807\n",
            "Epoch 4/10\n",
            "1875/1875 [==============================] - 4s 2ms/step - loss: 3.2375 - accuracy: 0.7865\n",
            "Epoch 5/10\n",
            "1875/1875 [==============================] - 4s 2ms/step - loss: 3.3019 - accuracy: 0.7843\n",
            "Epoch 6/10\n",
            "1875/1875 [==============================] - 4s 2ms/step - loss: 3.2784 - accuracy: 0.7867\n",
            "Epoch 7/10\n",
            "1875/1875 [==============================] - 4s 2ms/step - loss: 3.2599 - accuracy: 0.7892\n",
            "Epoch 8/10\n",
            "1875/1875 [==============================] - 4s 2ms/step - loss: 3.2571 - accuracy: 0.7902\n",
            "Epoch 9/10\n",
            "1875/1875 [==============================] - 4s 2ms/step - loss: 3.2668 - accuracy: 0.7904\n",
            "Epoch 10/10\n",
            "1875/1875 [==============================] - 4s 2ms/step - loss: 3.2586 - accuracy: 0.7916\n"
          ],
          "name": "stdout"
        },
        {
          "output_type": "execute_result",
          "data": {
            "text/plain": [
              "<tensorflow.python.keras.callbacks.History at 0x7fb84174acc0>"
            ]
          },
          "metadata": {
            "tags": []
          },
          "execution_count": 13
        }
      ]
    },
    {
      "cell_type": "code",
      "metadata": {
        "id": "SuXRjlXoJcPf",
        "colab_type": "code",
        "colab": {
          "base_uri": "https://localhost:8080/",
          "height": 582
        },
        "outputId": "6b8f6cc4-4149-437e-b483-21d5fd2025d3"
      },
      "source": [
        "# 두 번째 방법\n",
        "L = tf.keras.layers\n",
        "model = tf.keras.Sequential([\n",
        "                             L.Flatten(),\n",
        "                             L.Dense(128, activation='relu'),\n",
        "                             L.Dense(64, activation='relu'),\n",
        "                             L.Dense(32, activation='relu'),\n",
        "                             L.Dense(10, activation='softmax'),\n",
        "                             L.Dropout(0.2)\n",
        "])\n",
        "\n",
        "early_stopping = tf.keras.callbacks.EarlyStopping(\n",
        "    monitor='val_loss', \n",
        "    patience=5\n",
        ")\n",
        "\n",
        "model.compile(optimizer='adam',\n",
        "              loss='categorical_crossentropy',\n",
        "              metrics=['accuracy'])\n",
        "\n",
        "model.fit(X_train, y_train, callbacks=[early_stopping], epochs=10)"
      ],
      "execution_count": null,
      "outputs": [
        {
          "output_type": "stream",
          "text": [
            "Epoch 1/10\n",
            "1872/1875 [============================>.] - ETA: 0s - loss: 3.4589 - accuracy: 0.7370WARNING:tensorflow:Early stopping conditioned on metric `val_loss` which is not available. Available metrics are: loss,accuracy\n",
            "1875/1875 [==============================] - 4s 2ms/step - loss: 3.4583 - accuracy: 0.7370\n",
            "Epoch 2/10\n",
            "1868/1875 [============================>.] - ETA: 0s - loss: 3.2721 - accuracy: 0.7757WARNING:tensorflow:Early stopping conditioned on metric `val_loss` which is not available. Available metrics are: loss,accuracy\n",
            "1875/1875 [==============================] - 4s 2ms/step - loss: 3.2732 - accuracy: 0.7757\n",
            "Epoch 3/10\n",
            "1865/1875 [============================>.] - ETA: 0s - loss: 3.3171 - accuracy: 0.7788WARNING:tensorflow:Early stopping conditioned on metric `val_loss` which is not available. Available metrics are: loss,accuracy\n",
            "1875/1875 [==============================] - 4s 2ms/step - loss: 3.3205 - accuracy: 0.7786\n",
            "Epoch 4/10\n",
            "1867/1875 [============================>.] - ETA: 0s - loss: 3.2890 - accuracy: 0.7829WARNING:tensorflow:Early stopping conditioned on metric `val_loss` which is not available. Available metrics are: loss,accuracy\n",
            "1875/1875 [==============================] - 4s 2ms/step - loss: 3.2899 - accuracy: 0.7828\n",
            "Epoch 5/10\n",
            "1875/1875 [==============================] - ETA: 0s - loss: 3.2786 - accuracy: 0.7855WARNING:tensorflow:Early stopping conditioned on metric `val_loss` which is not available. Available metrics are: loss,accuracy\n",
            "1875/1875 [==============================] - 4s 2ms/step - loss: 3.2786 - accuracy: 0.7855\n",
            "Epoch 6/10\n",
            "1873/1875 [============================>.] - ETA: 0s - loss: 3.2645 - accuracy: 0.7878WARNING:tensorflow:Early stopping conditioned on metric `val_loss` which is not available. Available metrics are: loss,accuracy\n",
            "1875/1875 [==============================] - 4s 2ms/step - loss: 3.2650 - accuracy: 0.7878\n",
            "Epoch 7/10\n",
            "1874/1875 [============================>.] - ETA: 0s - loss: 3.2520 - accuracy: 0.7898WARNING:tensorflow:Early stopping conditioned on metric `val_loss` which is not available. Available metrics are: loss,accuracy\n",
            "1875/1875 [==============================] - 4s 2ms/step - loss: 3.2513 - accuracy: 0.7898\n",
            "Epoch 8/10\n",
            "1873/1875 [============================>.] - ETA: 0s - loss: 3.2116 - accuracy: 0.7935WARNING:tensorflow:Early stopping conditioned on metric `val_loss` which is not available. Available metrics are: loss,accuracy\n",
            "1875/1875 [==============================] - 4s 2ms/step - loss: 3.2117 - accuracy: 0.7935\n",
            "Epoch 9/10\n",
            "1874/1875 [============================>.] - ETA: 0s - loss: 3.2694 - accuracy: 0.7902WARNING:tensorflow:Early stopping conditioned on metric `val_loss` which is not available. Available metrics are: loss,accuracy\n",
            "1875/1875 [==============================] - 4s 2ms/step - loss: 3.2695 - accuracy: 0.7902\n",
            "Epoch 10/10\n",
            "1858/1875 [============================>.] - ETA: 0s - loss: 3.2322 - accuracy: 0.7932WARNING:tensorflow:Early stopping conditioned on metric `val_loss` which is not available. Available metrics are: loss,accuracy\n",
            "1875/1875 [==============================] - 4s 2ms/step - loss: 3.2352 - accuracy: 0.7931\n"
          ],
          "name": "stdout"
        },
        {
          "output_type": "execute_result",
          "data": {
            "text/plain": [
              "<tensorflow.python.keras.callbacks.History at 0x7fb840b736a0>"
            ]
          },
          "metadata": {
            "tags": []
          },
          "execution_count": 15
        }
      ]
    },
    {
      "cell_type": "code",
      "metadata": {
        "id": "GyrpGpaHLzNg",
        "colab_type": "code",
        "colab": {
          "base_uri": "https://localhost:8080/",
          "height": 72
        },
        "outputId": "a8ac7435-9450-4e11-aa76-3b94c6ec5bd1"
      },
      "source": [
        "model.evaluate(X_train, y_train)"
      ],
      "execution_count": null,
      "outputs": [
        {
          "output_type": "stream",
          "text": [
            "1875/1875 [==============================] - 2s 1ms/step - loss: 0.0252 - accuracy: 0.9923\n"
          ],
          "name": "stdout"
        },
        {
          "output_type": "execute_result",
          "data": {
            "text/plain": [
              "[0.025197168812155724, 0.9922666549682617]"
            ]
          },
          "metadata": {
            "tags": []
          },
          "execution_count": 16
        }
      ]
    },
    {
      "cell_type": "code",
      "metadata": {
        "id": "ZTFxNvMIMdQx",
        "colab_type": "code",
        "colab": {
          "base_uri": "https://localhost:8080/",
          "height": 34
        },
        "outputId": "7a0828e1-75ad-40d5-9f2d-a937efa7e662"
      },
      "source": [
        "X_train.shape, y_train.shape"
      ],
      "execution_count": null,
      "outputs": [
        {
          "output_type": "execute_result",
          "data": {
            "text/plain": [
              "((60000, 28, 28), (60000, 10))"
            ]
          },
          "metadata": {
            "tags": []
          },
          "execution_count": 19
        }
      ]
    },
    {
      "cell_type": "code",
      "metadata": {
        "id": "nI8ymG2lMZ5-",
        "colab_type": "code",
        "colab": {
          "base_uri": "https://localhost:8080/",
          "height": 34
        },
        "outputId": "4bfb2dd1-e68f-4fb9-d66f-1b50f586bcb7"
      },
      "source": [
        "X_test.shape, y_test.shape"
      ],
      "execution_count": null,
      "outputs": [
        {
          "output_type": "execute_result",
          "data": {
            "text/plain": [
              "((10000, 28, 28), (1000, 10))"
            ]
          },
          "metadata": {
            "tags": []
          },
          "execution_count": 23
        }
      ]
    },
    {
      "cell_type": "code",
      "metadata": {
        "id": "4D6lR6ghMkpx",
        "colab_type": "code",
        "colab": {}
      },
      "source": [
        "y_test = y_test.reshape(-1, 10)"
      ],
      "execution_count": null,
      "outputs": []
    },
    {
      "cell_type": "code",
      "metadata": {
        "id": "vv6tOrosMD6G",
        "colab_type": "code",
        "colab": {
          "base_uri": "https://localhost:8080/",
          "height": 389
        },
        "outputId": "dedc4414-87d3-478a-81d4-570ecc487ab0"
      },
      "source": [
        "model.evaluate(X_test, y_test)"
      ],
      "execution_count": null,
      "outputs": [
        {
          "output_type": "error",
          "ename": "ValueError",
          "evalue": "ignored",
          "traceback": [
            "\u001b[0;31m---------------------------------------------------------------------------\u001b[0m",
            "\u001b[0;31mValueError\u001b[0m                                Traceback (most recent call last)",
            "\u001b[0;32m<ipython-input-24-acc519fcce62>\u001b[0m in \u001b[0;36m<module>\u001b[0;34m()\u001b[0m\n\u001b[0;32m----> 1\u001b[0;31m \u001b[0mmodel\u001b[0m\u001b[0;34m.\u001b[0m\u001b[0mevaluate\u001b[0m\u001b[0;34m(\u001b[0m\u001b[0mX_test\u001b[0m\u001b[0;34m,\u001b[0m \u001b[0my_test\u001b[0m\u001b[0;34m)\u001b[0m\u001b[0;34m\u001b[0m\u001b[0;34m\u001b[0m\u001b[0m\n\u001b[0m",
            "\u001b[0;32m/usr/local/lib/python3.6/dist-packages/tensorflow/python/keras/engine/training.py\u001b[0m in \u001b[0;36m_method_wrapper\u001b[0;34m(self, *args, **kwargs)\u001b[0m\n\u001b[1;32m     64\u001b[0m   \u001b[0;32mdef\u001b[0m \u001b[0m_method_wrapper\u001b[0m\u001b[0;34m(\u001b[0m\u001b[0mself\u001b[0m\u001b[0;34m,\u001b[0m \u001b[0;34m*\u001b[0m\u001b[0margs\u001b[0m\u001b[0;34m,\u001b[0m \u001b[0;34m**\u001b[0m\u001b[0mkwargs\u001b[0m\u001b[0;34m)\u001b[0m\u001b[0;34m:\u001b[0m\u001b[0;34m\u001b[0m\u001b[0;34m\u001b[0m\u001b[0m\n\u001b[1;32m     65\u001b[0m     \u001b[0;32mif\u001b[0m \u001b[0;32mnot\u001b[0m \u001b[0mself\u001b[0m\u001b[0;34m.\u001b[0m\u001b[0m_in_multi_worker_mode\u001b[0m\u001b[0;34m(\u001b[0m\u001b[0;34m)\u001b[0m\u001b[0;34m:\u001b[0m  \u001b[0;31m# pylint: disable=protected-access\u001b[0m\u001b[0;34m\u001b[0m\u001b[0;34m\u001b[0m\u001b[0m\n\u001b[0;32m---> 66\u001b[0;31m       \u001b[0;32mreturn\u001b[0m \u001b[0mmethod\u001b[0m\u001b[0;34m(\u001b[0m\u001b[0mself\u001b[0m\u001b[0;34m,\u001b[0m \u001b[0;34m*\u001b[0m\u001b[0margs\u001b[0m\u001b[0;34m,\u001b[0m \u001b[0;34m**\u001b[0m\u001b[0mkwargs\u001b[0m\u001b[0;34m)\u001b[0m\u001b[0;34m\u001b[0m\u001b[0;34m\u001b[0m\u001b[0m\n\u001b[0m\u001b[1;32m     67\u001b[0m \u001b[0;34m\u001b[0m\u001b[0m\n\u001b[1;32m     68\u001b[0m     \u001b[0;31m# Running inside `run_distribute_coordinator` already.\u001b[0m\u001b[0;34m\u001b[0m\u001b[0;34m\u001b[0m\u001b[0;34m\u001b[0m\u001b[0m\n",
            "\u001b[0;32m/usr/local/lib/python3.6/dist-packages/tensorflow/python/keras/engine/training.py\u001b[0m in \u001b[0;36mevaluate\u001b[0;34m(self, x, y, batch_size, verbose, sample_weight, steps, callbacks, max_queue_size, workers, use_multiprocessing, return_dict)\u001b[0m\n\u001b[1;32m   1055\u001b[0m           \u001b[0mworkers\u001b[0m\u001b[0;34m=\u001b[0m\u001b[0mworkers\u001b[0m\u001b[0;34m,\u001b[0m\u001b[0;34m\u001b[0m\u001b[0;34m\u001b[0m\u001b[0m\n\u001b[1;32m   1056\u001b[0m           \u001b[0muse_multiprocessing\u001b[0m\u001b[0;34m=\u001b[0m\u001b[0muse_multiprocessing\u001b[0m\u001b[0;34m,\u001b[0m\u001b[0;34m\u001b[0m\u001b[0;34m\u001b[0m\u001b[0m\n\u001b[0;32m-> 1057\u001b[0;31m           model=self)\n\u001b[0m\u001b[1;32m   1058\u001b[0m \u001b[0;34m\u001b[0m\u001b[0m\n\u001b[1;32m   1059\u001b[0m       \u001b[0;31m# Container that configures and calls `tf.keras.Callback`s.\u001b[0m\u001b[0;34m\u001b[0m\u001b[0;34m\u001b[0m\u001b[0;34m\u001b[0m\u001b[0m\n",
            "\u001b[0;32m/usr/local/lib/python3.6/dist-packages/tensorflow/python/keras/engine/data_adapter.py\u001b[0m in \u001b[0;36m__init__\u001b[0;34m(self, x, y, sample_weight, batch_size, steps_per_epoch, initial_epoch, epochs, shuffle, class_weight, max_queue_size, workers, use_multiprocessing, model)\u001b[0m\n\u001b[1;32m   1110\u001b[0m         \u001b[0muse_multiprocessing\u001b[0m\u001b[0;34m=\u001b[0m\u001b[0muse_multiprocessing\u001b[0m\u001b[0;34m,\u001b[0m\u001b[0;34m\u001b[0m\u001b[0;34m\u001b[0m\u001b[0m\n\u001b[1;32m   1111\u001b[0m         \u001b[0mdistribution_strategy\u001b[0m\u001b[0;34m=\u001b[0m\u001b[0mds_context\u001b[0m\u001b[0;34m.\u001b[0m\u001b[0mget_strategy\u001b[0m\u001b[0;34m(\u001b[0m\u001b[0;34m)\u001b[0m\u001b[0;34m,\u001b[0m\u001b[0;34m\u001b[0m\u001b[0;34m\u001b[0m\u001b[0m\n\u001b[0;32m-> 1112\u001b[0;31m         model=model)\n\u001b[0m\u001b[1;32m   1113\u001b[0m \u001b[0;34m\u001b[0m\u001b[0m\n\u001b[1;32m   1114\u001b[0m     \u001b[0mstrategy\u001b[0m \u001b[0;34m=\u001b[0m \u001b[0mds_context\u001b[0m\u001b[0;34m.\u001b[0m\u001b[0mget_strategy\u001b[0m\u001b[0;34m(\u001b[0m\u001b[0;34m)\u001b[0m\u001b[0;34m\u001b[0m\u001b[0;34m\u001b[0m\u001b[0m\n",
            "\u001b[0;32m/usr/local/lib/python3.6/dist-packages/tensorflow/python/keras/engine/data_adapter.py\u001b[0m in \u001b[0;36m__init__\u001b[0;34m(self, x, y, sample_weights, sample_weight_modes, batch_size, epochs, steps, shuffle, **kwargs)\u001b[0m\n\u001b[1;32m    280\u001b[0m             label, \", \".join(str(i.shape[0]) for i in nest.flatten(data)))\n\u001b[1;32m    281\u001b[0m       \u001b[0mmsg\u001b[0m \u001b[0;34m+=\u001b[0m \u001b[0;34m\"Please provide data which shares the same first dimension.\"\u001b[0m\u001b[0;34m\u001b[0m\u001b[0;34m\u001b[0m\u001b[0m\n\u001b[0;32m--> 282\u001b[0;31m       \u001b[0;32mraise\u001b[0m \u001b[0mValueError\u001b[0m\u001b[0;34m(\u001b[0m\u001b[0mmsg\u001b[0m\u001b[0;34m)\u001b[0m\u001b[0;34m\u001b[0m\u001b[0;34m\u001b[0m\u001b[0m\n\u001b[0m\u001b[1;32m    283\u001b[0m     \u001b[0mnum_samples\u001b[0m \u001b[0;34m=\u001b[0m \u001b[0mnum_samples\u001b[0m\u001b[0;34m.\u001b[0m\u001b[0mpop\u001b[0m\u001b[0;34m(\u001b[0m\u001b[0;34m)\u001b[0m\u001b[0;34m\u001b[0m\u001b[0;34m\u001b[0m\u001b[0m\n\u001b[1;32m    284\u001b[0m \u001b[0;34m\u001b[0m\u001b[0m\n",
            "\u001b[0;31mValueError\u001b[0m: Data cardinality is ambiguous:\n  x sizes: 10000\n  y sizes: 1000\nPlease provide data which shares the same first dimension."
          ]
        }
      ]
    },
    {
      "cell_type": "code",
      "metadata": {
        "id": "2y0cUjhmMGFD",
        "colab_type": "code",
        "colab": {
          "base_uri": "https://localhost:8080/",
          "height": 369
        },
        "outputId": "98f66e64-8162-467a-a34d-bc84c7986aa6"
      },
      "source": [
        "model.summary()"
      ],
      "execution_count": null,
      "outputs": [
        {
          "output_type": "stream",
          "text": [
            "Model: \"sequential_3\"\n",
            "_________________________________________________________________\n",
            "Layer (type)                 Output Shape              Param #   \n",
            "=================================================================\n",
            "flatten_3 (Flatten)          multiple                  0         \n",
            "_________________________________________________________________\n",
            "dense_10 (Dense)             multiple                  100480    \n",
            "_________________________________________________________________\n",
            "dense_11 (Dense)             multiple                  8256      \n",
            "_________________________________________________________________\n",
            "dense_12 (Dense)             multiple                  2080      \n",
            "_________________________________________________________________\n",
            "dense_13 (Dense)             multiple                  330       \n",
            "_________________________________________________________________\n",
            "dropout_3 (Dropout)          multiple                  0         \n",
            "=================================================================\n",
            "Total params: 111,146\n",
            "Trainable params: 111,146\n",
            "Non-trainable params: 0\n",
            "_________________________________________________________________\n"
          ],
          "name": "stdout"
        }
      ]
    },
    {
      "cell_type": "code",
      "metadata": {
        "id": "OSQsMW73MJvs",
        "colab_type": "code",
        "colab": {}
      },
      "source": [
        "################################################################\n",
        "###############이거보기#########################################"
      ],
      "execution_count": null,
      "outputs": []
    },
    {
      "cell_type": "code",
      "metadata": {
        "id": "2FT6S6mINC_6",
        "colab_type": "code",
        "colab": {}
      },
      "source": [
        "import tensorflow as tf\n",
        "from tensorflow import keras"
      ],
      "execution_count": null,
      "outputs": []
    },
    {
      "cell_type": "code",
      "metadata": {
        "id": "obNIwUVwNIlx",
        "colab_type": "code",
        "colab": {}
      },
      "source": [
        "mnist = keras.datasets.mnist"
      ],
      "execution_count": null,
      "outputs": []
    },
    {
      "cell_type": "code",
      "metadata": {
        "id": "4pvj0HuIOJT7",
        "colab_type": "code",
        "colab": {
          "base_uri": "https://localhost:8080/",
          "height": 34
        },
        "outputId": "8184dd77-982e-42fe-fe97-d9f850a4542a"
      },
      "source": [
        "(X_train, y_train), (X_test, y_test) = mnist.load_data()\n",
        "X_train.shape, y_train.shape, X_test.shape, y_test.shape"
      ],
      "execution_count": null,
      "outputs": [
        {
          "output_type": "execute_result",
          "data": {
            "text/plain": [
              "((60000, 28, 28), (60000,), (10000, 28, 28), (10000,))"
            ]
          },
          "metadata": {
            "tags": []
          },
          "execution_count": 41
        }
      ]
    },
    {
      "cell_type": "code",
      "metadata": {
        "id": "TWBB3P6GOZFR",
        "colab_type": "code",
        "colab": {
          "base_uri": "https://localhost:8080/",
          "height": 34
        },
        "outputId": "4565131e-e440-4138-c109-48e43650b07a"
      },
      "source": [
        "X_train.max(), X_train.min()"
      ],
      "execution_count": null,
      "outputs": [
        {
          "output_type": "execute_result",
          "data": {
            "text/plain": [
              "(255, 0)"
            ]
          },
          "metadata": {
            "tags": []
          },
          "execution_count": 42
        }
      ]
    },
    {
      "cell_type": "code",
      "metadata": {
        "id": "jfBpLWLnOjdi",
        "colab_type": "code",
        "colab": {}
      },
      "source": [
        "X_train = X_train/255.0\n",
        "X_test = X_test/255.0"
      ],
      "execution_count": null,
      "outputs": []
    },
    {
      "cell_type": "code",
      "metadata": {
        "id": "b0X8GVflPkYS",
        "colab_type": "code",
        "colab": {}
      },
      "source": [
        "# y_train = tf.keras.utils.to_categorical(y_train)\n",
        "# y_train.shape"
      ],
      "execution_count": null,
      "outputs": []
    },
    {
      "cell_type": "code",
      "metadata": {
        "id": "lLvflSGSOnkS",
        "colab_type": "code",
        "colab": {}
      },
      "source": [
        "model = keras.models.Sequential([\n",
        "                                 keras.layers.Flatten(),\n",
        "                                 keras.layers.Dense(512, activation='relu'),\n",
        "                                 keras.layers.Dense(256, activation='relu'),\n",
        "                                 keras.layers.Dense(128, activation='relu'),\n",
        "                                 keras.layers.Dropout(0.2),\n",
        "                                 keras.layers.Dense(10, activation='softmax')\n",
        "])\n",
        "\n",
        "model.compile(optimizer='adam',\n",
        "              loss='sparse_categorical_crossentropy',\n",
        "              metrics=['accuracy'])"
      ],
      "execution_count": null,
      "outputs": []
    },
    {
      "cell_type": "code",
      "metadata": {
        "id": "NGpmerYePz0G",
        "colab_type": "code",
        "colab": {
          "base_uri": "https://localhost:8080/",
          "height": 230
        },
        "outputId": "3da24a50-19a4-4ac5-c09a-27802f09cdfa"
      },
      "source": [
        "model.fit(X_train, y_train, epochs=5)"
      ],
      "execution_count": null,
      "outputs": [
        {
          "output_type": "stream",
          "text": [
            "Epoch 1/5\n",
            "1875/1875 [==============================] - 11s 6ms/step - loss: 0.2123 - accuracy: 0.9362\n",
            "Epoch 2/5\n",
            "1875/1875 [==============================] - 11s 6ms/step - loss: 0.0914 - accuracy: 0.9729\n",
            "Epoch 3/5\n",
            "1875/1875 [==============================] - 11s 6ms/step - loss: 0.0684 - accuracy: 0.9796\n",
            "Epoch 4/5\n",
            "1875/1875 [==============================] - 11s 6ms/step - loss: 0.0528 - accuracy: 0.9841\n",
            "Epoch 5/5\n",
            "1875/1875 [==============================] - 11s 6ms/step - loss: 0.0441 - accuracy: 0.9863\n"
          ],
          "name": "stdout"
        },
        {
          "output_type": "execute_result",
          "data": {
            "text/plain": [
              "<tensorflow.python.keras.callbacks.History at 0x7fb83b412c88>"
            ]
          },
          "metadata": {
            "tags": []
          },
          "execution_count": 46
        }
      ]
    },
    {
      "cell_type": "code",
      "metadata": {
        "id": "lUgxeHXYP3pl",
        "colab_type": "code",
        "colab": {
          "base_uri": "https://localhost:8080/",
          "height": 72
        },
        "outputId": "3426038a-2226-4cdd-e33d-1d052aa92c2a"
      },
      "source": [
        "model.evaluate(X_train, y_train)"
      ],
      "execution_count": null,
      "outputs": [
        {
          "output_type": "stream",
          "text": [
            "1875/1875 [==============================] - 4s 2ms/step - loss: 0.0222 - accuracy: 0.9934\n"
          ],
          "name": "stdout"
        },
        {
          "output_type": "execute_result",
          "data": {
            "text/plain": [
              "[0.02219407819211483, 0.9934333562850952]"
            ]
          },
          "metadata": {
            "tags": []
          },
          "execution_count": 47
        }
      ]
    },
    {
      "cell_type": "code",
      "metadata": {
        "id": "TQUsTukEP6sL",
        "colab_type": "code",
        "colab": {
          "base_uri": "https://localhost:8080/",
          "height": 52
        },
        "outputId": "9dadd900-9ce3-45e0-d6c3-6ebd7f44d48c"
      },
      "source": [
        "model.evaluate(X_test, y_test)"
      ],
      "execution_count": null,
      "outputs": [
        {
          "output_type": "stream",
          "text": [
            "313/313 [==============================] - 1s 3ms/step - loss: 0.0792 - accuracy: 0.9785\n"
          ],
          "name": "stdout"
        },
        {
          "output_type": "execute_result",
          "data": {
            "text/plain": [
              "[0.0792367234826088, 0.9785000085830688]"
            ]
          },
          "metadata": {
            "tags": []
          },
          "execution_count": 48
        }
      ]
    },
    {
      "cell_type": "code",
      "metadata": {
        "id": "MSQLjIPUP8xe",
        "colab_type": "code",
        "colab": {
          "base_uri": "https://localhost:8080/",
          "height": 369
        },
        "outputId": "d0df61bf-1663-4ede-994f-3fcf619cdca9"
      },
      "source": [
        "model.summary()"
      ],
      "execution_count": null,
      "outputs": [
        {
          "output_type": "stream",
          "text": [
            "Model: \"sequential_5\"\n",
            "_________________________________________________________________\n",
            "Layer (type)                 Output Shape              Param #   \n",
            "=================================================================\n",
            "flatten_5 (Flatten)          multiple                  0         \n",
            "_________________________________________________________________\n",
            "dense_18 (Dense)             multiple                  401920    \n",
            "_________________________________________________________________\n",
            "dense_19 (Dense)             multiple                  131328    \n",
            "_________________________________________________________________\n",
            "dense_20 (Dense)             multiple                  32896     \n",
            "_________________________________________________________________\n",
            "dropout_5 (Dropout)          multiple                  0         \n",
            "_________________________________________________________________\n",
            "dense_21 (Dense)             multiple                  1290      \n",
            "=================================================================\n",
            "Total params: 567,434\n",
            "Trainable params: 567,434\n",
            "Non-trainable params: 0\n",
            "_________________________________________________________________\n"
          ],
          "name": "stdout"
        }
      ]
    },
    {
      "cell_type": "markdown",
      "metadata": {
        "id": "OJipC9x__5ao",
        "colab_type": "text"
      },
      "source": [
        "# Mnist - CNN "
      ]
    },
    {
      "cell_type": "code",
      "metadata": {
        "id": "yvJAmu6x_9Ol",
        "colab_type": "code",
        "colab": {}
      },
      "source": [
        "import tensorflow as tf\n",
        "import matplotlib.pyplot as plt\n",
        "import numpy as np"
      ],
      "execution_count": null,
      "outputs": []
    },
    {
      "cell_type": "code",
      "metadata": {
        "id": "nF37TQ7tAGCr",
        "colab_type": "code",
        "colab": {
          "base_uri": "https://localhost:8080/",
          "height": 35
        },
        "outputId": "9f705b56-1726-4646-a027-2bb9af3ff1a4"
      },
      "source": [
        "(X_train, y_train), (X_test, y_test) = tf.keras.datasets.mnist.load_data()\n",
        "X_train.shape, y_train.shape, X_test.shape, y_test.shape"
      ],
      "execution_count": null,
      "outputs": [
        {
          "output_type": "execute_result",
          "data": {
            "text/plain": [
              "((60000, 28, 28), (60000,), (10000, 28, 28), (10000,))"
            ]
          },
          "metadata": {
            "tags": []
          },
          "execution_count": 3
        }
      ]
    },
    {
      "cell_type": "code",
      "metadata": {
        "id": "5iYlf-ltBjPe",
        "colab_type": "code",
        "colab": {}
      },
      "source": [
        "X_train_, X_test_ = X_train[...,tf.newaxis], X_test[..., tf.newaxis]"
      ],
      "execution_count": null,
      "outputs": []
    },
    {
      "cell_type": "code",
      "metadata": {
        "id": "nGq4WlEWBtHr",
        "colab_type": "code",
        "colab": {
          "base_uri": "https://localhost:8080/",
          "height": 35
        },
        "outputId": "856646c2-982a-40d2-8cff-82b824b16d74"
      },
      "source": [
        "X_train_.shape, X_test_.shape"
      ],
      "execution_count": null,
      "outputs": [
        {
          "output_type": "execute_result",
          "data": {
            "text/plain": [
              "((60000, 28, 28, 1), (10000, 28, 28, 1))"
            ]
          },
          "metadata": {
            "tags": []
          },
          "execution_count": 6
        }
      ]
    },
    {
      "cell_type": "code",
      "metadata": {
        "id": "mizfRa0UCptr",
        "colab_type": "code",
        "colab": {
          "base_uri": "https://localhost:8080/",
          "height": 35
        },
        "outputId": "d0c699cf-fa46-4c51-fd17-b5a35cce93bb"
      },
      "source": [
        "X_train_.max(), X_test_.min()"
      ],
      "execution_count": null,
      "outputs": [
        {
          "output_type": "execute_result",
          "data": {
            "text/plain": [
              "(255, 0)"
            ]
          },
          "metadata": {
            "tags": []
          },
          "execution_count": 7
        }
      ]
    },
    {
      "cell_type": "code",
      "metadata": {
        "id": "fEFOtHqJCx7J",
        "colab_type": "code",
        "colab": {}
      },
      "source": [
        "X_train_ ,X_test_ = X_train_/255.0, X_test_/255.0"
      ],
      "execution_count": null,
      "outputs": []
    },
    {
      "cell_type": "code",
      "metadata": {
        "id": "w1Pj2FkEAGYB",
        "colab_type": "code",
        "colab": {}
      },
      "source": [
        "from tensorflow.keras import layers"
      ],
      "execution_count": null,
      "outputs": []
    },
    {
      "cell_type": "code",
      "metadata": {
        "id": "1fvlKE3LAGcf",
        "colab_type": "code",
        "colab": {}
      },
      "source": [
        "model = tf.keras.Sequential([\n",
        "                             layers.Conv2D(64, (3, 3), activation='relu'),\n",
        "                             layers.MaxPooling2D((2, 2)),\n",
        "                             layers.Conv2D(128, (3, 3), activation='relu'),\n",
        "                             layers.MaxPooling2D((2, 2)),\n",
        "                             layers.Conv2D(256, (3, 3), activation='relu'),\n",
        "                             layers.MaxPooling2D((2, 2)),\n",
        "                             layers.Flatten(),\n",
        "                             layers.Dense(32, activation='relu'),\n",
        "                             layers.Dense(10, activation='softmax')                             \n",
        "])\n",
        "\n",
        "model.compile(optimizer='adam',\n",
        "              loss='sparse_categorical_crossentropy',\n",
        "              metrics=['accuracy'])"
      ],
      "execution_count": null,
      "outputs": []
    },
    {
      "cell_type": "code",
      "metadata": {
        "id": "VBsqE4EeAGhY",
        "colab_type": "code",
        "colab": {
          "base_uri": "https://localhost:8080/",
          "height": 523
        },
        "outputId": "ca589b2d-597c-4620-9ab6-f83f161ac78d"
      },
      "source": [
        "model.fit(X_train_, y_train, epochs=10, validation_split=0.2)"
      ],
      "execution_count": null,
      "outputs": [
        {
          "output_type": "stream",
          "text": [
            "Epoch 1/10\n",
            "WARNING:tensorflow:Layer conv2d is casting an input tensor from dtype float64 to the layer's dtype of float32, which is new behavior in TensorFlow 2.  The layer has dtype float32 because it's dtype defaults to floatx.\n",
            "\n",
            "If you intended to run this layer in float32, you can safely ignore this warning. If in doubt, this warning is likely only an issue if you are porting a TensorFlow 1.X model to TensorFlow 2.\n",
            "\n",
            "To change all layers to have dtype float64 by default, call `tf.keras.backend.set_floatx('float64')`. To change just this layer, pass dtype='float64' to the layer constructor. If you are the author of this layer, you can disable autocasting by passing autocast=False to the base Layer constructor.\n",
            "\n",
            "1500/1500 [==============================] - 148s 99ms/step - loss: 0.1894 - accuracy: 0.9405 - val_loss: 0.0831 - val_accuracy: 0.9735\n",
            "Epoch 2/10\n",
            "1500/1500 [==============================] - 149s 99ms/step - loss: 0.0644 - accuracy: 0.9803 - val_loss: 0.0631 - val_accuracy: 0.9818\n",
            "Epoch 3/10\n",
            "1500/1500 [==============================] - 149s 99ms/step - loss: 0.0441 - accuracy: 0.9860 - val_loss: 0.0448 - val_accuracy: 0.9866\n",
            "Epoch 4/10\n",
            "1500/1500 [==============================] - 148s 99ms/step - loss: 0.0321 - accuracy: 0.9902 - val_loss: 0.0501 - val_accuracy: 0.9849\n",
            "Epoch 5/10\n",
            "1500/1500 [==============================] - 148s 99ms/step - loss: 0.0260 - accuracy: 0.9914 - val_loss: 0.0562 - val_accuracy: 0.9850\n",
            "Epoch 6/10\n",
            "1500/1500 [==============================] - 149s 99ms/step - loss: 0.0192 - accuracy: 0.9937 - val_loss: 0.0588 - val_accuracy: 0.9850\n",
            "Epoch 7/10\n",
            "1500/1500 [==============================] - 149s 99ms/step - loss: 0.0171 - accuracy: 0.9945 - val_loss: 0.0496 - val_accuracy: 0.9873\n",
            "Epoch 8/10\n",
            "1500/1500 [==============================] - 149s 99ms/step - loss: 0.0138 - accuracy: 0.9955 - val_loss: 0.0549 - val_accuracy: 0.9861\n",
            "Epoch 9/10\n",
            "1500/1500 [==============================] - 149s 99ms/step - loss: 0.0123 - accuracy: 0.9964 - val_loss: 0.0471 - val_accuracy: 0.9889\n",
            "Epoch 10/10\n",
            "1500/1500 [==============================] - 149s 99ms/step - loss: 0.0121 - accuracy: 0.9958 - val_loss: 0.0573 - val_accuracy: 0.9868\n"
          ],
          "name": "stdout"
        },
        {
          "output_type": "execute_result",
          "data": {
            "text/plain": [
              "<tensorflow.python.keras.callbacks.History at 0x7f4338dbfac8>"
            ]
          },
          "metadata": {
            "tags": []
          },
          "execution_count": 12
        }
      ]
    },
    {
      "cell_type": "code",
      "metadata": {
        "id": "RXCUgakjAGmD",
        "colab_type": "code",
        "colab": {
          "base_uri": "https://localhost:8080/",
          "height": 485
        },
        "outputId": "dd7e6b1b-12e0-4866-e4d3-0c0d6466fa8b"
      },
      "source": [
        "model.summary()"
      ],
      "execution_count": null,
      "outputs": [
        {
          "output_type": "stream",
          "text": [
            "Model: \"sequential\"\n",
            "_________________________________________________________________\n",
            "Layer (type)                 Output Shape              Param #   \n",
            "=================================================================\n",
            "conv2d (Conv2D)              multiple                  640       \n",
            "_________________________________________________________________\n",
            "max_pooling2d (MaxPooling2D) multiple                  0         \n",
            "_________________________________________________________________\n",
            "conv2d_1 (Conv2D)            multiple                  73856     \n",
            "_________________________________________________________________\n",
            "max_pooling2d_1 (MaxPooling2 multiple                  0         \n",
            "_________________________________________________________________\n",
            "conv2d_2 (Conv2D)            multiple                  295168    \n",
            "_________________________________________________________________\n",
            "max_pooling2d_2 (MaxPooling2 multiple                  0         \n",
            "_________________________________________________________________\n",
            "flatten (Flatten)            multiple                  0         \n",
            "_________________________________________________________________\n",
            "dense (Dense)                multiple                  8224      \n",
            "_________________________________________________________________\n",
            "dense_1 (Dense)              multiple                  330       \n",
            "=================================================================\n",
            "Total params: 378,218\n",
            "Trainable params: 378,218\n",
            "Non-trainable params: 0\n",
            "_________________________________________________________________\n"
          ],
          "name": "stdout"
        }
      ]
    },
    {
      "cell_type": "code",
      "metadata": {
        "id": "OzVV7bvcAGzp",
        "colab_type": "code",
        "colab": {}
      },
      "source": [
        "##############################################################\n",
        "# W1 = (3*3 +1)*64 = 640\n",
        "# W2 = (64*3*3 +1)*128 = 73856\n",
        "# W3 = (128*3*3 +1)*256 = 295168\n",
        "# W4 = (256 +1)*32 = 8224\n",
        "# W5 = (32 +1)*10 = 320"
      ],
      "execution_count": null,
      "outputs": []
    },
    {
      "cell_type": "markdown",
      "metadata": {
        "id": "k3B_-aOMQq1D",
        "colab_type": "text"
      },
      "source": [
        "# Fashion Mnist - CNN"
      ]
    },
    {
      "cell_type": "code",
      "metadata": {
        "id": "ydUA5urD_06f",
        "colab_type": "code",
        "colab": {
          "base_uri": "https://localhost:8080/",
          "height": 181
        },
        "outputId": "d9b83c27-8cb0-4014-dd5d-d7cef65a5cfc"
      },
      "source": [
        "(X_train, y_train), (X_test, y_test) = tf.keras.datasets.fashion_mnist.load_data()"
      ],
      "execution_count": null,
      "outputs": [
        {
          "output_type": "stream",
          "text": [
            "Downloading data from https://storage.googleapis.com/tensorflow/tf-keras-datasets/train-labels-idx1-ubyte.gz\n",
            "32768/29515 [=================================] - 0s 0us/step\n",
            "Downloading data from https://storage.googleapis.com/tensorflow/tf-keras-datasets/train-images-idx3-ubyte.gz\n",
            "26427392/26421880 [==============================] - 0s 0us/step\n",
            "Downloading data from https://storage.googleapis.com/tensorflow/tf-keras-datasets/t10k-labels-idx1-ubyte.gz\n",
            "8192/5148 [===============================================] - 0s 0us/step\n",
            "Downloading data from https://storage.googleapis.com/tensorflow/tf-keras-datasets/t10k-images-idx3-ubyte.gz\n",
            "4423680/4422102 [==============================] - 0s 0us/step\n"
          ],
          "name": "stdout"
        }
      ]
    },
    {
      "cell_type": "code",
      "metadata": {
        "id": "s1ZmMarMOj8J",
        "colab_type": "code",
        "colab": {
          "base_uri": "https://localhost:8080/",
          "height": 35
        },
        "outputId": "b627128d-6102-4e24-b38d-14e286907c61"
      },
      "source": [
        "X_train.shape, y_train.shape, X_test.shape, y_test.shape"
      ],
      "execution_count": null,
      "outputs": [
        {
          "output_type": "execute_result",
          "data": {
            "text/plain": [
              "((60000, 28, 28), (60000,), (10000, 28, 28), (10000,))"
            ]
          },
          "metadata": {
            "tags": []
          },
          "execution_count": 18
        }
      ]
    },
    {
      "cell_type": "code",
      "metadata": {
        "id": "S4VDd4pYPIh7",
        "colab_type": "code",
        "colab": {
          "base_uri": "https://localhost:8080/",
          "height": 35
        },
        "outputId": "df6fd453-4906-4781-be99-ee5642d6a834"
      },
      "source": [
        "X_train_, X_test_ = X_train[..., tf.newaxis], X_test[..., tf.newaxis]\n",
        "X_train_.max(), X_test_.min()"
      ],
      "execution_count": null,
      "outputs": [
        {
          "output_type": "execute_result",
          "data": {
            "text/plain": [
              "(255, 0)"
            ]
          },
          "metadata": {
            "tags": []
          },
          "execution_count": 19
        }
      ]
    },
    {
      "cell_type": "code",
      "metadata": {
        "id": "XmTguw8wPbBO",
        "colab_type": "code",
        "colab": {}
      },
      "source": [
        "X_train_, X_test_ = X_train_/255.0, X_test_/255.0"
      ],
      "execution_count": null,
      "outputs": []
    },
    {
      "cell_type": "code",
      "metadata": {
        "id": "mCHb03cNOpho",
        "colab_type": "code",
        "colab": {
          "base_uri": "https://localhost:8080/",
          "height": 523
        },
        "outputId": "acb98129-57ad-46f8-a732-ccaf635e70d4"
      },
      "source": [
        "model = tf.keras.Sequential([\n",
        "                             layers.Conv2D(64, (3, 3), activation='relu'),\n",
        "                             layers.MaxPooling2D((2, 2)),\n",
        "                             layers.Conv2D(128, (3, 3), activation='relu'),\n",
        "                             layers.MaxPooling2D((2, 2)),\n",
        "                             layers.Conv2D(256, (3, 3), activation='relu'),\n",
        "                             layers.MaxPooling2D((2, 2)),\n",
        "                             layers.Flatten(),\n",
        "                             layers.Dense(32, activation='relu'),\n",
        "                             layers.Dense(10, activation='softmax')\n",
        "])\n",
        "\n",
        "model.compile(optimizer='adam',\n",
        "              loss='sparse_categorical_crossentropy',\n",
        "              metrics=['accuracy'])\n",
        "\n",
        "model.fit(X_train_, y_train, epochs=10, validation_split = 0.2)"
      ],
      "execution_count": null,
      "outputs": [
        {
          "output_type": "stream",
          "text": [
            "Epoch 1/10\n",
            "WARNING:tensorflow:Layer conv2d_6 is casting an input tensor from dtype float64 to the layer's dtype of float32, which is new behavior in TensorFlow 2.  The layer has dtype float32 because it's dtype defaults to floatx.\n",
            "\n",
            "If you intended to run this layer in float32, you can safely ignore this warning. If in doubt, this warning is likely only an issue if you are porting a TensorFlow 1.X model to TensorFlow 2.\n",
            "\n",
            "To change all layers to have dtype float64 by default, call `tf.keras.backend.set_floatx('float64')`. To change just this layer, pass dtype='float64' to the layer constructor. If you are the author of this layer, you can disable autocasting by passing autocast=False to the base Layer constructor.\n",
            "\n",
            "1500/1500 [==============================] - 151s 101ms/step - loss: 0.5744 - accuracy: 0.7933 - val_loss: 0.4315 - val_accuracy: 0.8438\n",
            "Epoch 2/10\n",
            "1500/1500 [==============================] - 149s 99ms/step - loss: 0.3801 - accuracy: 0.8609 - val_loss: 0.3415 - val_accuracy: 0.8761\n",
            "Epoch 3/10\n",
            "1500/1500 [==============================] - 149s 99ms/step - loss: 0.3186 - accuracy: 0.8832 - val_loss: 0.3223 - val_accuracy: 0.8836\n",
            "Epoch 4/10\n",
            "1500/1500 [==============================] - 150s 100ms/step - loss: 0.2767 - accuracy: 0.8983 - val_loss: 0.3031 - val_accuracy: 0.8917\n",
            "Epoch 5/10\n",
            "1500/1500 [==============================] - 149s 100ms/step - loss: 0.2462 - accuracy: 0.9086 - val_loss: 0.3189 - val_accuracy: 0.8893\n",
            "Epoch 6/10\n",
            "1500/1500 [==============================] - 149s 99ms/step - loss: 0.2176 - accuracy: 0.9196 - val_loss: 0.3210 - val_accuracy: 0.8854\n",
            "Epoch 7/10\n",
            "1500/1500 [==============================] - 149s 100ms/step - loss: 0.1929 - accuracy: 0.9281 - val_loss: 0.2944 - val_accuracy: 0.8991\n",
            "Epoch 8/10\n",
            "1500/1500 [==============================] - 149s 99ms/step - loss: 0.1686 - accuracy: 0.9372 - val_loss: 0.3259 - val_accuracy: 0.8931\n",
            "Epoch 9/10\n",
            "1500/1500 [==============================] - 149s 99ms/step - loss: 0.1500 - accuracy: 0.9444 - val_loss: 0.3347 - val_accuracy: 0.8890\n",
            "Epoch 10/10\n",
            "1500/1500 [==============================] - 151s 100ms/step - loss: 0.1317 - accuracy: 0.9516 - val_loss: 0.3306 - val_accuracy: 0.8945\n"
          ],
          "name": "stdout"
        },
        {
          "output_type": "execute_result",
          "data": {
            "text/plain": [
              "<tensorflow.python.keras.callbacks.History at 0x7f433460d710>"
            ]
          },
          "metadata": {
            "tags": []
          },
          "execution_count": 22
        }
      ]
    },
    {
      "cell_type": "code",
      "metadata": {
        "id": "uBSesY5sQT3q",
        "colab_type": "code",
        "colab": {
          "base_uri": "https://localhost:8080/",
          "height": 73
        },
        "outputId": "9fe4c91b-dd03-4650-9c62-0049f132291d"
      },
      "source": [
        "model.evaluate(X_train_, y_train)"
      ],
      "execution_count": null,
      "outputs": [
        {
          "output_type": "stream",
          "text": [
            "1875/1875 [==============================] - 38s 20ms/step - loss: 0.1546 - accuracy: 0.9458\n"
          ],
          "name": "stdout"
        },
        {
          "output_type": "execute_result",
          "data": {
            "text/plain": [
              "[0.15455110371112823, 0.9458000063896179]"
            ]
          },
          "metadata": {
            "tags": []
          },
          "execution_count": 24
        }
      ]
    },
    {
      "cell_type": "code",
      "metadata": {
        "id": "99elFA8GQZ2S",
        "colab_type": "code",
        "colab": {
          "base_uri": "https://localhost:8080/",
          "height": 53
        },
        "outputId": "c0efb401-f44f-4052-c034-c54015593afa"
      },
      "source": [
        "model.evaluate(X_test_, y_test)"
      ],
      "execution_count": null,
      "outputs": [
        {
          "output_type": "stream",
          "text": [
            "313/313 [==============================] - 6s 20ms/step - loss: 0.3558 - accuracy: 0.8915\n"
          ],
          "name": "stdout"
        },
        {
          "output_type": "execute_result",
          "data": {
            "text/plain": [
              "[0.35575973987579346, 0.8914999961853027]"
            ]
          },
          "metadata": {
            "tags": []
          },
          "execution_count": 25
        }
      ]
    },
    {
      "cell_type": "code",
      "metadata": {
        "id": "V7HxniFcQc5m",
        "colab_type": "code",
        "colab": {
          "base_uri": "https://localhost:8080/",
          "height": 485
        },
        "outputId": "6d8ad76e-af2a-4ed4-d6e0-c359583e6820"
      },
      "source": [
        "model.summary()"
      ],
      "execution_count": null,
      "outputs": [
        {
          "output_type": "stream",
          "text": [
            "Model: \"sequential_2\"\n",
            "_________________________________________________________________\n",
            "Layer (type)                 Output Shape              Param #   \n",
            "=================================================================\n",
            "conv2d_6 (Conv2D)            multiple                  640       \n",
            "_________________________________________________________________\n",
            "max_pooling2d_6 (MaxPooling2 multiple                  0         \n",
            "_________________________________________________________________\n",
            "conv2d_7 (Conv2D)            multiple                  73856     \n",
            "_________________________________________________________________\n",
            "max_pooling2d_7 (MaxPooling2 multiple                  0         \n",
            "_________________________________________________________________\n",
            "conv2d_8 (Conv2D)            multiple                  295168    \n",
            "_________________________________________________________________\n",
            "max_pooling2d_8 (MaxPooling2 multiple                  0         \n",
            "_________________________________________________________________\n",
            "flatten_2 (Flatten)          multiple                  0         \n",
            "_________________________________________________________________\n",
            "dense_4 (Dense)              multiple                  8224      \n",
            "_________________________________________________________________\n",
            "dense_5 (Dense)              multiple                  330       \n",
            "=================================================================\n",
            "Total params: 378,218\n",
            "Trainable params: 378,218\n",
            "Non-trainable params: 0\n",
            "_________________________________________________________________\n"
          ],
          "name": "stdout"
        }
      ]
    },
    {
      "cell_type": "markdown",
      "metadata": {
        "id": "57hIQv93QnCg",
        "colab_type": "text"
      },
      "source": [
        "# Mnist - Auto Encoder"
      ]
    },
    {
      "cell_type": "code",
      "metadata": {
        "id": "HdZTxKzcRmO4",
        "colab_type": "code",
        "colab": {}
      },
      "source": [
        "import numpy as np\n",
        "import tensorflow as tf\n",
        "from tensorflow.keras import layers, models, datasets\n",
        "import matplotlib.pyplot as plt"
      ],
      "execution_count": null,
      "outputs": []
    },
    {
      "cell_type": "code",
      "metadata": {
        "id": "Tjia8GbTW9cu",
        "colab_type": "code",
        "colab": {}
      },
      "source": [
        "(X_train, _), (X_test, _) = datasets.mnist.load_data()"
      ],
      "execution_count": null,
      "outputs": []
    },
    {
      "cell_type": "code",
      "metadata": {
        "id": "HSiqqxQWXTOg",
        "colab_type": "code",
        "colab": {
          "base_uri": "https://localhost:8080/",
          "height": 35
        },
        "outputId": "bade15a1-a7e8-4986-db94-c45ceb7ef55f"
      },
      "source": [
        "X_train.shape, X_test.shape"
      ],
      "execution_count": null,
      "outputs": [
        {
          "output_type": "execute_result",
          "data": {
            "text/plain": [
              "((60000, 28, 28), (10000, 28, 28))"
            ]
          },
          "metadata": {
            "tags": []
          },
          "execution_count": 32
        }
      ]
    },
    {
      "cell_type": "code",
      "metadata": {
        "id": "RH_EKb2hXY7C",
        "colab_type": "code",
        "colab": {}
      },
      "source": [
        "X_train = X_train.astype('float32')/255.0\n",
        "X_test = X_test.astype('float32')/255.0\n",
        "X_train = X_train.reshape(-1, 28*28)\n",
        "X_test = X_test.reshape(-1, 28*28)"
      ],
      "execution_count": null,
      "outputs": []
    },
    {
      "cell_type": "code",
      "metadata": {
        "id": "ny7j--E9YIBm",
        "colab_type": "code",
        "colab": {
          "base_uri": "https://localhost:8080/",
          "height": 35
        },
        "outputId": "89f8e839-2592-4027-85b5-1af34175d790"
      },
      "source": [
        "X_train.shape, X_test.shape"
      ],
      "execution_count": null,
      "outputs": [
        {
          "output_type": "execute_result",
          "data": {
            "text/plain": [
              "((60000, 784), (10000, 784))"
            ]
          },
          "metadata": {
            "tags": []
          },
          "execution_count": 34
        }
      ]
    },
    {
      "cell_type": "code",
      "metadata": {
        "id": "7w0mNZyPYJ7o",
        "colab_type": "code",
        "colab": {}
      },
      "source": [
        "Hidden_input = 100\n",
        "# Encoding 단계에서 이미지를 100만큼 압축하겠다."
      ],
      "execution_count": null,
      "outputs": []
    },
    {
      "cell_type": "code",
      "metadata": {
        "id": "npVGVwMrYe3n",
        "colab_type": "code",
        "colab": {}
      },
      "source": [
        "input_layers = layers.Input(shape=(784, )) # 입력층 #\n",
        "Encoding = layers.Dense(Hidden_input)(input_layers) # 히든층 #\n",
        "Decoding = layers.Dense(784, activation = 'sigmoid')(Encoding) # 출력층 #"
      ],
      "execution_count": null,
      "outputs": []
    },
    {
      "cell_type": "code",
      "metadata": {
        "id": "ggpDGxM8Y8R7",
        "colab_type": "code",
        "colab": {}
      },
      "source": [
        "encoding_model = tf.keras.Model(input_layers, Encoding)\n",
        "autoencoder = tf.keras.Model(input_layers, Decoding)"
      ],
      "execution_count": null,
      "outputs": []
    },
    {
      "cell_type": "code",
      "metadata": {
        "id": "yFzX_ImgZKnk",
        "colab_type": "code",
        "colab": {
          "base_uri": "https://localhost:8080/",
          "height": 415
        },
        "outputId": "085cdba9-1cd8-40c5-f9fc-f737f4bb2a21"
      },
      "source": [
        "autoencoder.compile(optimizer='adam',\n",
        "                    loss='binary_crossentropy')\n",
        "\n",
        "autoencoder.fit(X_train, X_train, validation_data=(X_test, X_test), epochs=10)"
      ],
      "execution_count": null,
      "outputs": [
        {
          "output_type": "stream",
          "text": [
            "Epoch 1/10\n",
            "1875/1875 [==============================] - 7s 4ms/step - loss: 0.1222 - val_loss: 0.0785\n",
            "Epoch 2/10\n",
            "1875/1875 [==============================] - 7s 4ms/step - loss: 0.0743 - val_loss: 0.0707\n",
            "Epoch 3/10\n",
            "1875/1875 [==============================] - 7s 4ms/step - loss: 0.0701 - val_loss: 0.0687\n",
            "Epoch 4/10\n",
            "1875/1875 [==============================] - 7s 4ms/step - loss: 0.0687 - val_loss: 0.0679\n",
            "Epoch 5/10\n",
            "1875/1875 [==============================] - 7s 4ms/step - loss: 0.0681 - val_loss: 0.0676\n",
            "Epoch 6/10\n",
            "1875/1875 [==============================] - 7s 4ms/step - loss: 0.0679 - val_loss: 0.0674\n",
            "Epoch 7/10\n",
            "1875/1875 [==============================] - 7s 4ms/step - loss: 0.0677 - val_loss: 0.0672\n",
            "Epoch 8/10\n",
            "1875/1875 [==============================] - 7s 4ms/step - loss: 0.0676 - val_loss: 0.0672\n",
            "Epoch 9/10\n",
            "1875/1875 [==============================] - 7s 4ms/step - loss: 0.0675 - val_loss: 0.0671\n",
            "Epoch 10/10\n",
            "1875/1875 [==============================] - 7s 4ms/step - loss: 0.0674 - val_loss: 0.0671\n"
          ],
          "name": "stdout"
        },
        {
          "output_type": "execute_result",
          "data": {
            "text/plain": [
              "<tensorflow.python.keras.callbacks.History at 0x7f4334d078d0>"
            ]
          },
          "metadata": {
            "tags": []
          },
          "execution_count": 38
        }
      ]
    },
    {
      "cell_type": "code",
      "metadata": {
        "id": "SKgiYJ5CZgv2",
        "colab_type": "code",
        "colab": {
          "base_uri": "https://localhost:8080/",
          "height": 205
        },
        "outputId": "3c5e6704-6778-41d4-e187-c79f02152d2f"
      },
      "source": [
        "#####################################\n",
        "###########original data#############\n",
        "for i in range(16):\n",
        "  img = X_train[i].reshape(28, 28)\n",
        "  plt.subplot(2, 8, i+1)\n",
        "  plt.imshow(img)"
      ],
      "execution_count": null,
      "outputs": [
        {
          "output_type": "display_data",
          "data": {
            "image/png": "[encoded data removed]",
            "text/plain": [
              "<Figure size 432x288 with 16 Axes>"
            ]
          },
          "metadata": {
            "tags": [],
            "needs_background": "light"
          }
        }
      ]
    },
    {
      "cell_type": "code",
      "metadata": {
        "id": "SbSj5aBNaEKQ",
        "colab_type": "code",
        "colab": {
          "base_uri": "https://localhost:8080/",
          "height": 35
        },
        "outputId": "6aab8f0e-b0b2-4ef3-d64c-55d6e85f5c69"
      },
      "source": [
        "#####################################\n",
        "#####autoencoder 예측된 데이터#######\n",
        "##############X_train################\n",
        "predicted_X = autoencoder.predict(X_train)\n",
        "predicted_X.shape"
      ],
      "execution_count": null,
      "outputs": [
        {
          "output_type": "execute_result",
          "data": {
            "text/plain": [
              "(60000, 784)"
            ]
          },
          "metadata": {
            "tags": []
          },
          "execution_count": 42
        }
      ]
    },
    {
      "cell_type": "code",
      "metadata": {
        "id": "j8OVyx8RaYSi",
        "colab_type": "code",
        "colab": {
          "base_uri": "https://localhost:8080/",
          "height": 205
        },
        "outputId": "256c6c63-041a-45c0-8816-fb917a915ece"
      },
      "source": [
        "for i in range(16):\n",
        "  img = X_train[i].reshape(28, 28)\n",
        "  plt.subplot(2, 8, i+1)\n",
        "  plt.imshow(img)"
      ],
      "execution_count": null,
      "outputs": [
        {
          "output_type": "display_data",
          "data": {
            "image/png": "[encoded data removed]",
            "text/plain": [
              "<Figure size 432x288 with 16 Axes>"
            ]
          },
          "metadata": {
            "tags": [],
            "needs_background": "light"
          }
        }
      ]
    },
    {
      "cell_type": "code",
      "metadata": {
        "id": "GTpW1Y3Ca1y7",
        "colab_type": "code",
        "colab": {}
      },
      "source": [
        "##################################################\n",
        "# 학습이 잘 되었는지 확인하기 위해\n",
        "# encoder에 X_test를 넣어 압축된\n",
        "# predict 이미지 생성\n",
        "##################################################\n",
        "\n",
        "predict_encoded_img = encoding_model.predict(X_test)"
      ],
      "execution_count": null,
      "outputs": []
    },
    {
      "cell_type": "code",
      "metadata": {
        "id": "1M1Fd0vMcDL7",
        "colab_type": "code",
        "colab": {
          "base_uri": "https://localhost:8080/",
          "height": 260
        },
        "outputId": "2382e880-ad66-4323-f879-7263f733c08f"
      },
      "source": [
        "for i in range(50):\n",
        "  plt.subplot(5, 10, i+1)\n",
        "  plt.imshow(X_test[i].reshape(28, 28))\n",
        "plt.show()"
      ],
      "execution_count": null,
      "outputs": [
        {
          "output_type": "display_data",
          "data": {
            "image/png": "[encoded data removed]",
            "text/plain": [
              "<Figure size 432x288 with 50 Axes>"
            ]
          },
          "metadata": {
            "tags": [],
            "needs_background": "light"
          }
        }
      ]
    },
    {
      "cell_type": "code",
      "metadata": {
        "id": "Xr0__YLocP2R",
        "colab_type": "code",
        "colab": {}
      },
      "source": [
        "##################################################\n",
        "# 학습이 잘 되었는지 확인하기 위해\n",
        "# autoencoder에 X_test를 넣어 압축된\n",
        "# predict 이미지 생성\n",
        "##################################################\n",
        "\n",
        "predict_autoencoded_img = autoencoder.predict(X_test)"
      ],
      "execution_count": null,
      "outputs": []
    },
    {
      "cell_type": "code",
      "metadata": {
        "id": "A9PcrPAfcoN-",
        "colab_type": "code",
        "colab": {
          "base_uri": "https://localhost:8080/",
          "height": 260
        },
        "outputId": "7591e97e-574e-4acc-f0c2-98564c0e71a4"
      },
      "source": [
        "for i in range(50):\n",
        "  plt.subplot(5, 10, i+1)\n",
        "  plt.imshow(predict_autoencoded_img[i].reshape(28, 28))\n",
        "plt.show()"
      ],
      "execution_count": null,
      "outputs": [
        {
          "output_type": "display_data",
          "data": {
            "image/png": "[encoded data removed]",
            "text/plain": [
              "<Figure size 432x288 with 50 Axes>"
            ]
          },
          "metadata": {
            "tags": [],
            "needs_background": "light"
          }
        }
      ]
    }
  ]
}